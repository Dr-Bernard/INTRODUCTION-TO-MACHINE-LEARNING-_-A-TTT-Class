{
 "cells": [
  {
   "cell_type": "markdown",
   "id": "eb5f6e73",
   "metadata": {},
   "source": [
    "###### Introduction to Machine Learning HCIA-AI Class\n",
    "TTT Class by Engr. Francis T. Umeudu\n"
   ]
  },
  {
   "cell_type": "markdown",
   "id": "e1df571c",
   "metadata": {},
   "source": [
    "# INTRODUCTION TO MACHINE LEARNING\n",
    "Machine Learning is the process through which computers make decisions based on what it has learnt from an existing data.\n",
    "According to CodeBasics, Machine Learning is a set of techniques to make computers better at doing things that humans(traditionally), can do better than machine.\n",
    "\n",
    "It involves the steps taken to train computers to learn patterns from existing data and make predictions or inferences on new data based on what it has learnt from the existing data. Machine Learning is a step into the direction of AI.\n",
    "Some common examples of Machine Learning at work include the ability of computers to distinguish real e-mails from spam, tweet recommendation based on your previous activities on Twitter, movies recommendation by Netflix and Youtube etc.\n",
    "\n",
    "Machine Learning is a great way to automate time-consuming or expensive manual tasks.\n",
    "\n",
    "\n",
    "#### Types of Machine Learning\n",
    "- **Supervised Learning**\n",
    "\n",
    "- **Unsupervised Learning**\n",
    "\n",
    "Supervised and Unspervised Machine Learning are the two most common types of Machine Learning paradigms used in Data Science. The difference between them lies majorly in the their training data.\n",
    "\n",
    "In **Supervised Learning**, the training or input data is labeled such that we are able to tell what the output data is but in **Unsupervised Leraning**, the input data is unlabeled. "
   ]
  },
  {
   "cell_type": "markdown",
   "id": "cd17888f",
   "metadata": {},
   "source": [
    "## SUPERVISED LEARNING\n",
    "Supervised learning is a machine learning approach that is characterized by the use of labeled datasets. Here, a data set that contains predictor features and a target feature is provided (the predictor features are the independent variables while the target feature is the dependent variable). The predictor describes a situation or an entity while the target feature is the event or variable that we are trying to predict. eg. If we are trying to predict a person's **SALARY** based on variables like **WORK EXPERIENCE, EDUCAIONAL QUALIFICATION and INSTITUTION TYPE**, Our target variable will be **SALARY** while **WORK EXPERIENCE, EDUCAIONAL QUALIFICATION and INSTITUTION TYPE** are our predictors.In Supervised Learning, the datasets are mostly presented in a tabular form ie in rows and columns. Each row is known as an observation.\n",
    "Supervised Learning can be categorized into \n",
    "- Regression and\n",
    "- Classification\n",
    "\n",
    "### REGRESSION\n",
    "Regression is a supervised learning method used to determine the correlation between a dependent variable and one or more independent variables. It is very popular in Machine Learning because of it's versatility in solving problems.\n",
    "It can to reveal both positive and negative relationship. In a positive relationship, when the independent variable goes up, the dependent variable goes up. When the independent variable goes up, the dependent variable comes down. Examples of the application of Regression include forecasting the price of stock, understanding the impact of a marketing campaign of sales and forecasting the weather. Some popular Regression algorithims in Machine Learning are:\n",
    "\n",
    "- Linear Regression\n",
    "- Polynomial Regression\n",
    "\n",
    "#### Linear Regression\n",
    "Linear Regression is divided into:\n",
    "- Simple Linear Regression\n",
    "- Multiple Linear Regression\n",
    "\n",
    "**Simple Linear Regression** is used to find the correlation between two variables only, one independent variable and one dependent variable. Simple Linear Regression uses the relationship between the data points to draw a straight line through them.\n",
    "The dependent variable is the target feature i.e the value we want to find, explain or forecast. This variable is denoted as y and is found on the vertical axis when visualized of a scatter plot.\n",
    "The independent variable is the predictor, the variable that provides information used to explain or forecast the dependent variable. This variable is denoted as X and is found on the horizontal axis of the scatter plot.\n",
    "The formular for Simple Linear Regression is:\n",
    "\n",
    "**y = a + bx**\n",
    "\n",
    "Where:\n",
    "\n",
    "- y = the dependent variable\n",
    "- a = the intercept or the constant\n",
    "- b = the slope or coefficient of the independent variable\n",
    "- x = the independent variable\n",
    "\n",
    "\n",
    "**Multiple Linear Regression** involves finding the correlation between more that one independent variables and a dependent variable. This is also called a Multivariate Regression.\n",
    "\n",
    "In the next steps, we will solve a Machine Learning problem using the Regression model:\n",
    "\n",
    "We are going to build a model that will be used to predict the price of laptops, we will start by learning about the steps to get our data ready for a regression model. \n"
   ]
  },
  {
   "cell_type": "markdown",
   "id": "e5093754",
   "metadata": {},
   "source": [
    "### LOADING DATA"
   ]
  },
  {
   "cell_type": "code",
   "execution_count": 1,
   "id": "d113e6be",
   "metadata": {},
   "outputs": [],
   "source": [
    "#importing the library for loading the data\n",
    "import pandas as pd\n",
    "import numpy as np"
   ]
  },
  {
   "cell_type": "code",
   "execution_count": 2,
   "id": "b3cdb0d9",
   "metadata": {},
   "outputs": [],
   "source": [
    "laptop_price = pd.read_csv('laptop_price.csv')"
   ]
  },
  {
   "cell_type": "code",
   "execution_count": 3,
   "id": "55ac49ff",
   "metadata": {},
   "outputs": [
    {
     "data": {
      "text/html": [
       "<div>\n",
       "<style scoped>\n",
       "    .dataframe tbody tr th:only-of-type {\n",
       "        vertical-align: middle;\n",
       "    }\n",
       "\n",
       "    .dataframe tbody tr th {\n",
       "        vertical-align: top;\n",
       "    }\n",
       "\n",
       "    .dataframe thead th {\n",
       "        text-align: right;\n",
       "    }\n",
       "</style>\n",
       "<table border=\"1\" class=\"dataframe\">\n",
       "  <thead>\n",
       "    <tr style=\"text-align: right;\">\n",
       "      <th></th>\n",
       "      <th>laptop_ID</th>\n",
       "      <th>Company</th>\n",
       "      <th>Product</th>\n",
       "      <th>TypeName</th>\n",
       "      <th>Inches</th>\n",
       "      <th>ScreenResolution</th>\n",
       "      <th>Cpu</th>\n",
       "      <th>Ram</th>\n",
       "      <th>Memory</th>\n",
       "      <th>Gpu</th>\n",
       "      <th>OpSys</th>\n",
       "      <th>Weight</th>\n",
       "      <th>Price_euros</th>\n",
       "    </tr>\n",
       "  </thead>\n",
       "  <tbody>\n",
       "    <tr>\n",
       "      <th>0</th>\n",
       "      <td>1</td>\n",
       "      <td>Apple</td>\n",
       "      <td>MacBook Pro</td>\n",
       "      <td>Ultrabook</td>\n",
       "      <td>13.3</td>\n",
       "      <td>IPS Panel Retina Display 2560x1600</td>\n",
       "      <td>Intel Core i5 2.3GHz</td>\n",
       "      <td>8GB</td>\n",
       "      <td>128GB SSD</td>\n",
       "      <td>Intel Iris Plus Graphics 640</td>\n",
       "      <td>macOS</td>\n",
       "      <td>1.37kg</td>\n",
       "      <td>1339.69</td>\n",
       "    </tr>\n",
       "    <tr>\n",
       "      <th>1</th>\n",
       "      <td>2</td>\n",
       "      <td>Apple</td>\n",
       "      <td>Macbook Air</td>\n",
       "      <td>Ultrabook</td>\n",
       "      <td>13.3</td>\n",
       "      <td>1440x900</td>\n",
       "      <td>Intel Core i5 1.8GHz</td>\n",
       "      <td>8GB</td>\n",
       "      <td>128GB Flash Storage</td>\n",
       "      <td>Intel HD Graphics 6000</td>\n",
       "      <td>macOS</td>\n",
       "      <td>1.34kg</td>\n",
       "      <td>898.94</td>\n",
       "    </tr>\n",
       "    <tr>\n",
       "      <th>2</th>\n",
       "      <td>3</td>\n",
       "      <td>HP</td>\n",
       "      <td>250 G6</td>\n",
       "      <td>Notebook</td>\n",
       "      <td>15.6</td>\n",
       "      <td>Full HD 1920x1080</td>\n",
       "      <td>Intel Core i5 7200U 2.5GHz</td>\n",
       "      <td>8GB</td>\n",
       "      <td>256GB SSD</td>\n",
       "      <td>Intel HD Graphics 620</td>\n",
       "      <td>No OS</td>\n",
       "      <td>1.86kg</td>\n",
       "      <td>575.00</td>\n",
       "    </tr>\n",
       "    <tr>\n",
       "      <th>3</th>\n",
       "      <td>4</td>\n",
       "      <td>Apple</td>\n",
       "      <td>MacBook Pro</td>\n",
       "      <td>Ultrabook</td>\n",
       "      <td>15.4</td>\n",
       "      <td>IPS Panel Retina Display 2880x1800</td>\n",
       "      <td>Intel Core i7 2.7GHz</td>\n",
       "      <td>16GB</td>\n",
       "      <td>512GB SSD</td>\n",
       "      <td>AMD Radeon Pro 455</td>\n",
       "      <td>macOS</td>\n",
       "      <td>1.83kg</td>\n",
       "      <td>2537.45</td>\n",
       "    </tr>\n",
       "    <tr>\n",
       "      <th>4</th>\n",
       "      <td>5</td>\n",
       "      <td>Apple</td>\n",
       "      <td>MacBook Pro</td>\n",
       "      <td>Ultrabook</td>\n",
       "      <td>13.3</td>\n",
       "      <td>IPS Panel Retina Display 2560x1600</td>\n",
       "      <td>Intel Core i5 3.1GHz</td>\n",
       "      <td>8GB</td>\n",
       "      <td>256GB SSD</td>\n",
       "      <td>Intel Iris Plus Graphics 650</td>\n",
       "      <td>macOS</td>\n",
       "      <td>1.37kg</td>\n",
       "      <td>1803.60</td>\n",
       "    </tr>\n",
       "  </tbody>\n",
       "</table>\n",
       "</div>"
      ],
      "text/plain": [
       "   laptop_ID Company      Product   TypeName  Inches  \\\n",
       "0          1   Apple  MacBook Pro  Ultrabook    13.3   \n",
       "1          2   Apple  Macbook Air  Ultrabook    13.3   \n",
       "2          3      HP       250 G6   Notebook    15.6   \n",
       "3          4   Apple  MacBook Pro  Ultrabook    15.4   \n",
       "4          5   Apple  MacBook Pro  Ultrabook    13.3   \n",
       "\n",
       "                     ScreenResolution                         Cpu   Ram  \\\n",
       "0  IPS Panel Retina Display 2560x1600        Intel Core i5 2.3GHz   8GB   \n",
       "1                            1440x900        Intel Core i5 1.8GHz   8GB   \n",
       "2                   Full HD 1920x1080  Intel Core i5 7200U 2.5GHz   8GB   \n",
       "3  IPS Panel Retina Display 2880x1800        Intel Core i7 2.7GHz  16GB   \n",
       "4  IPS Panel Retina Display 2560x1600        Intel Core i5 3.1GHz   8GB   \n",
       "\n",
       "                Memory                           Gpu  OpSys  Weight  \\\n",
       "0            128GB SSD  Intel Iris Plus Graphics 640  macOS  1.37kg   \n",
       "1  128GB Flash Storage        Intel HD Graphics 6000  macOS  1.34kg   \n",
       "2            256GB SSD         Intel HD Graphics 620  No OS  1.86kg   \n",
       "3            512GB SSD            AMD Radeon Pro 455  macOS  1.83kg   \n",
       "4            256GB SSD  Intel Iris Plus Graphics 650  macOS  1.37kg   \n",
       "\n",
       "   Price_euros  \n",
       "0      1339.69  \n",
       "1       898.94  \n",
       "2       575.00  \n",
       "3      2537.45  \n",
       "4      1803.60  "
      ]
     },
     "execution_count": 3,
     "metadata": {},
     "output_type": "execute_result"
    }
   ],
   "source": [
    "# to view the first five rows of the data\n",
    "laptop_price.head()"
   ]
  },
  {
   "cell_type": "code",
   "execution_count": 4,
   "id": "ae6dc8fe",
   "metadata": {},
   "outputs": [
    {
     "data": {
      "text/plain": [
       "(1303, 13)"
      ]
     },
     "execution_count": 4,
     "metadata": {},
     "output_type": "execute_result"
    }
   ],
   "source": [
    "# to know the number of rows and columns in the data\n",
    "laptop_price.shape"
   ]
  },
  {
   "cell_type": "code",
   "execution_count": 5,
   "id": "59c04229",
   "metadata": {},
   "outputs": [
    {
     "name": "stdout",
     "output_type": "stream",
     "text": [
      "<class 'pandas.core.frame.DataFrame'>\n",
      "RangeIndex: 1303 entries, 0 to 1302\n",
      "Data columns (total 13 columns):\n",
      " #   Column            Non-Null Count  Dtype  \n",
      "---  ------            --------------  -----  \n",
      " 0   laptop_ID         1303 non-null   int64  \n",
      " 1   Company           1303 non-null   object \n",
      " 2   Product           1303 non-null   object \n",
      " 3   TypeName          1303 non-null   object \n",
      " 4   Inches            1303 non-null   float64\n",
      " 5   ScreenResolution  1303 non-null   object \n",
      " 6   Cpu               1303 non-null   object \n",
      " 7   Ram               1303 non-null   object \n",
      " 8   Memory            1303 non-null   object \n",
      " 9   Gpu               1303 non-null   object \n",
      " 10  OpSys             1303 non-null   object \n",
      " 11  Weight            1303 non-null   object \n",
      " 12  Price_euros       1303 non-null   float64\n",
      "dtypes: float64(2), int64(1), object(10)\n",
      "memory usage: 132.5+ KB\n"
     ]
    }
   ],
   "source": [
    "# to get an overview of the data\n",
    "laptop_price.info()"
   ]
  },
  {
   "cell_type": "code",
   "execution_count": 6,
   "id": "b59bc12e",
   "metadata": {},
   "outputs": [
    {
     "data": {
      "text/plain": [
       "laptop_ID           1303\n",
       "Company               19\n",
       "Product              618\n",
       "TypeName               6\n",
       "Inches                18\n",
       "ScreenResolution      40\n",
       "Cpu                  118\n",
       "Ram                    9\n",
       "Memory                39\n",
       "Gpu                  110\n",
       "OpSys                  9\n",
       "Weight               179\n",
       "Price_euros          791\n",
       "dtype: int64"
      ]
     },
     "execution_count": 6,
     "metadata": {},
     "output_type": "execute_result"
    }
   ],
   "source": [
    "# to check the number of unique values in each column\n",
    "laptop_price.nunique()"
   ]
  },
  {
   "cell_type": "code",
   "execution_count": 7,
   "id": "dbbac3bd",
   "metadata": {},
   "outputs": [
    {
     "data": {
      "text/html": [
       "<div>\n",
       "<style scoped>\n",
       "    .dataframe tbody tr th:only-of-type {\n",
       "        vertical-align: middle;\n",
       "    }\n",
       "\n",
       "    .dataframe tbody tr th {\n",
       "        vertical-align: top;\n",
       "    }\n",
       "\n",
       "    .dataframe thead th {\n",
       "        text-align: right;\n",
       "    }\n",
       "</style>\n",
       "<table border=\"1\" class=\"dataframe\">\n",
       "  <thead>\n",
       "    <tr style=\"text-align: right;\">\n",
       "      <th></th>\n",
       "      <th>laptop_ID</th>\n",
       "      <th>Inches</th>\n",
       "      <th>Price_euros</th>\n",
       "    </tr>\n",
       "  </thead>\n",
       "  <tbody>\n",
       "    <tr>\n",
       "      <th>count</th>\n",
       "      <td>1303.000000</td>\n",
       "      <td>1303.000000</td>\n",
       "      <td>1303.000000</td>\n",
       "    </tr>\n",
       "    <tr>\n",
       "      <th>mean</th>\n",
       "      <td>660.155794</td>\n",
       "      <td>15.017191</td>\n",
       "      <td>1123.686992</td>\n",
       "    </tr>\n",
       "    <tr>\n",
       "      <th>std</th>\n",
       "      <td>381.172104</td>\n",
       "      <td>1.426304</td>\n",
       "      <td>699.009043</td>\n",
       "    </tr>\n",
       "    <tr>\n",
       "      <th>min</th>\n",
       "      <td>1.000000</td>\n",
       "      <td>10.100000</td>\n",
       "      <td>174.000000</td>\n",
       "    </tr>\n",
       "    <tr>\n",
       "      <th>25%</th>\n",
       "      <td>331.500000</td>\n",
       "      <td>14.000000</td>\n",
       "      <td>599.000000</td>\n",
       "    </tr>\n",
       "    <tr>\n",
       "      <th>50%</th>\n",
       "      <td>659.000000</td>\n",
       "      <td>15.600000</td>\n",
       "      <td>977.000000</td>\n",
       "    </tr>\n",
       "    <tr>\n",
       "      <th>75%</th>\n",
       "      <td>990.500000</td>\n",
       "      <td>15.600000</td>\n",
       "      <td>1487.880000</td>\n",
       "    </tr>\n",
       "    <tr>\n",
       "      <th>max</th>\n",
       "      <td>1320.000000</td>\n",
       "      <td>18.400000</td>\n",
       "      <td>6099.000000</td>\n",
       "    </tr>\n",
       "  </tbody>\n",
       "</table>\n",
       "</div>"
      ],
      "text/plain": [
       "         laptop_ID       Inches  Price_euros\n",
       "count  1303.000000  1303.000000  1303.000000\n",
       "mean    660.155794    15.017191  1123.686992\n",
       "std     381.172104     1.426304   699.009043\n",
       "min       1.000000    10.100000   174.000000\n",
       "25%     331.500000    14.000000   599.000000\n",
       "50%     659.000000    15.600000   977.000000\n",
       "75%     990.500000    15.600000  1487.880000\n",
       "max    1320.000000    18.400000  6099.000000"
      ]
     },
     "execution_count": 7,
     "metadata": {},
     "output_type": "execute_result"
    }
   ],
   "source": [
    "# to get the statistics of the numerical columns\n",
    "laptop_price.describe()"
   ]
  },
  {
   "cell_type": "code",
   "execution_count": 8,
   "id": "0660d747",
   "metadata": {},
   "outputs": [
    {
     "data": {
      "text/plain": [
       "0"
      ]
     },
     "execution_count": 8,
     "metadata": {},
     "output_type": "execute_result"
    }
   ],
   "source": [
    "# Checking for duplicate values\n",
    "laptop_price.duplicated().sum()"
   ]
  },
  {
   "cell_type": "code",
   "execution_count": 9,
   "id": "9fcf56f2",
   "metadata": {},
   "outputs": [
    {
     "data": {
      "text/plain": [
       "laptop_ID           0\n",
       "Company             0\n",
       "Product             0\n",
       "TypeName            0\n",
       "Inches              0\n",
       "ScreenResolution    0\n",
       "Cpu                 0\n",
       "Ram                 0\n",
       "Memory              0\n",
       "Gpu                 0\n",
       "OpSys               0\n",
       "Weight              0\n",
       "Price_euros         0\n",
       "dtype: int64"
      ]
     },
     "execution_count": 9,
     "metadata": {},
     "output_type": "execute_result"
    }
   ],
   "source": [
    "# Checking for null values\n",
    "laptop_price.isnull().sum()"
   ]
  },
  {
   "cell_type": "markdown",
   "id": "c3d98c7a",
   "metadata": {},
   "source": [
    "In the next step, the unique function will be used to retrieve the unique values for all columns. This will help us to closely inspect the values in each column and also spot any form of data inconsistency."
   ]
  },
  {
   "cell_type": "code",
   "execution_count": 10,
   "id": "cdc473b8",
   "metadata": {},
   "outputs": [
    {
     "data": {
      "text/plain": [
       "array(['Apple', 'HP', 'Acer', 'Asus', 'Dell', 'Lenovo', 'Chuwi', 'MSI',\n",
       "       'Microsoft', 'Toshiba', 'Huawei', 'Xiaomi', 'Vero', 'Razer',\n",
       "       'Mediacom', 'Samsung', 'Google', 'Fujitsu', 'LG'], dtype=object)"
      ]
     },
     "execution_count": 10,
     "metadata": {},
     "output_type": "execute_result"
    }
   ],
   "source": [
    "laptop_price['Company'].unique()"
   ]
  },
  {
   "cell_type": "code",
   "execution_count": 11,
   "id": "9aee75b7",
   "metadata": {},
   "outputs": [
    {
     "data": {
      "text/plain": [
       "array(['MacBook Pro', 'Macbook Air', '250 G6', 'Aspire 3',\n",
       "       'ZenBook UX430UN', 'Swift 3', 'Inspiron 3567', 'MacBook 12\"',\n",
       "       'IdeaPad 320-15IKB', 'XPS 13', 'Vivobook E200HA',\n",
       "       'Legion Y520-15IKBN', '255 G6', 'Inspiron 5379',\n",
       "       '15-BS101nv (i7-8550U/8GB/256GB/FHD/W10)', 'MacBook Air',\n",
       "       'Inspiron 5570', 'Latitude 5590', 'ProBook 470', 'LapBook 15.6\"',\n",
       "       'E402WA-GA010T (E2-6110/2GB/32GB/W10)',\n",
       "       '17-ak001nv (A6-9220/4GB/500GB/Radeon', 'IdeaPad 120S-14IAP',\n",
       "       'Inspiron 5770', 'ProBook 450',\n",
       "       'X540UA-DM186 (i3-6006U/4GB/1TB/FHD/Linux)', 'Inspiron 7577',\n",
       "       'X542UQ-GO005 (i5-7200U/8GB/1TB/GeForce', 'Aspire A515-51G',\n",
       "       'Inspiron 7773', 'IdeaPad 320-15ISK', 'Rog Strix',\n",
       "       'X751NV-TY001T (N4200/4GB/1TB/GeForce', 'Yoga Book', 'ProBook 430',\n",
       "       'Inspiron 3576', '15-bs002nv (i3-6006U/4GB/128GB/FHD/W10)',\n",
       "       'VivoBook Max', 'GS73VR 7RG',\n",
       "       'X541UA-DM1897 (i3-6006U/4GB/256GB/FHD/Linux)', 'Vostro 5471',\n",
       "       'IdeaPad 520S-14IKB',\n",
       "       'UX410UA-GV350T (i5-8250U/8GB/256GB/FHD/W10)', 'ZenBook Pro',\n",
       "       'Stream 14-AX040wm', 'V310-15ISK (i5-7200U/4GB/1TB/FHD/W10)',\n",
       "       'FX753VE-GC093 (i7-7700HQ/12GB/1TB/GeForce', 'Surface Laptop',\n",
       "       'Inspiron 5370', 'GL72M 7RDX', 'Aspire E5-475',\n",
       "       'FX503VD-E4022T (i7-7700HQ/8GB/1TB/GeForce', 'IdeaPad 320-15IKBN',\n",
       "       'Aspire A515-51G-32MX', 'ProBook 440', 'IdeaPad 320-15AST',\n",
       "       'Pavilion 15-CK000nv', 'FX503VM-E4007T (i7-7700HQ/16GB/1TB',\n",
       "       'FX550IK-DM018T (FX-9830P/8GB/1TB/Radeon', 'Aspire 5',\n",
       "       'Probook 430', 'Zenbook UX430UA', 'Spin 5',\n",
       "       'X541UV-DM1439T (i3-7100U/6GB/256GB/GeForce', 'Omen 15-ce007nv',\n",
       "       '15-bs017nv (i7-7500U/8GB/256GB/Radeon',\n",
       "       '15-bw000nv (E2-9000e/4GB/500GB/Radeon', 'Envy 13-ad009n',\n",
       "       'Pavilion 14-BK001nv', 'Ideapad 310-15ISK',\n",
       "       'UX430UQ-GV209R (i7-7500U/8GB/256GB/GeForce', 'GP62M 7REX',\n",
       "       'Thinkpad T470', 'VivoBook S15', 'ThinkPad Yoga', 'Probook 440',\n",
       "       'Spectre x360', 'Inspiron 7570',\n",
       "       'X705UV-BX074T (i3-6006U/4GB/1TB/GeForce', 'Spin 3', 'GS63VR 7RG',\n",
       "       'Probook 470', 'E402WA-GA007T (E2-6110/4GB/64GB/W10',\n",
       "       'Inspiron 5567', 'Aspire A515-51G-37JS',\n",
       "       '15-BS078nr (i7-7500U/8GB/1TB/W10)',\n",
       "       'V110-15IAP (N3350/4GB/1TB/No',\n",
       "       'FX753VD-GC086T (i5-7300HQ/8GB/1TB', 'Envy 13-AD007nv',\n",
       "       'ThinkPad E480', 'Satellite Pro', 'ZenBook UX430UA',\n",
       "       'EliteBook Folio', 'X541NA (N3350/4GB/1TB/FHD/W10)', 'GE72MVR 7RG',\n",
       "       'Aspire A315-51', 'Inspiron 5577', 'Inspiron 7567',\n",
       "       'V110-15IKB (i5-7200U/4GB/128GB/W10)', 'GE73VR 7RE',\n",
       "       'EliteBook 840', '15-BS103nv (i5-8250U/6GB/256GB/Radeon',\n",
       "       'Yoga 520-14IKB', 'ZenBook Flip', 'Inspiron 5579',\n",
       "       'X555BP-XX180T (A9-9420/4GB/1TB/Radeon', 'Aspire A517-51G',\n",
       "       'Aspire A315-31', 'GE63VR 7RE', 'MateBook X',\n",
       "       '17-bs001nv (i5-7200U/6GB/2TB/Radeon', 'GT80S 6QF-074US',\n",
       "       'V310-15IKB (i5-7200U/8GB/1TB', 'Yoga 920-13IKB', 'Mi Notebook',\n",
       "       'XPS 15', 'Swift 7', 'Thinkpad Yoga',\n",
       "       'K147 (N3350/4GB/32GB/FHD/W10)', 'IdeaPad 320-17IKBR', 'Blade Pro',\n",
       "       'Omen 17-W295', 'V110-15ISK (i5-6200U/4GB/128GB/W10)',\n",
       "       'Aspire E5-576G', 'Legion Y720-15IKB', 'Precision 7520',\n",
       "       'Aspire 7', 'ROG GL703VD-GC028T',\n",
       "       '15-bs018nq (i3-6006U/4GB/500GB/FHD/No', 'IdeaPad 320-17IKB',\n",
       "       'Latitude 5490', 'Portege Z30-C-16L', 'Alienware 17',\n",
       "       'Vivobook X541UV-DM1217T', 'K756UX-T4340T (i5-7200U/8GB/500GB',\n",
       "       'ZBook 15u', 'Pro P2540UA-XO0198T',\n",
       "       '15-rb013nv (E2-9000e/4GB/500GB/W10)', 'Vostro 5468', 'Aspire R7',\n",
       "       'X555QG-DM242T (A10-9620P/4GB/1TB', 'ROG G703VI-E5062T',\n",
       "       'Nitro AN515-51', 'VivoBook Pro',\n",
       "       'F756UX-T4201D (i7-7500U/8GB/128GB', 'Yoga 910-13IKB',\n",
       "       '15-bs015dx (i5-7200U/8GB/1TB/W10)', 'Rog G701VIK-BA060T',\n",
       "       'ROG G752VSK-GC493T', 'X505BP-BR019T (A9-9420/4GB/1TB/Radeon',\n",
       "       'Vostro 5370', '15-BW094nd (A6-9220/8GB/128GB/W10)',\n",
       "       'Envy 17-U275cl', 'GT73EVR 7RE', 'Yoga 720-15IKB', 'Vostro 3568',\n",
       "       'V330-15IKB (i7-8550U/8GB/256GB/FHD/W10)', 'ThinkPad X1',\n",
       "       'IdeaPad 320-17ISK', 'Ideapad 320-15IKBN',\n",
       "       'SP315-51 (i7-7500U/12GB/1TB/FHD/W10)', 'Thinkpad T570',\n",
       "       'Chromebook C910-C2ST',\n",
       "       'FX753VD-GC071T (i7-7700HQ/8GB/1TB/GeForce',\n",
       "       '17-BS037cl (i3-6006U/8GB/1TB/W10)',\n",
       "       'V330-15IKB (i5-8250U/8GB/256GB/FHD/W10)', 'Aspire A715-71G',\n",
       "       'Precision 7720', 'IdeaPad 310-15ABR', 'ZenBook UX530UQ-PRO',\n",
       "       'VivoBook S14', 'Rog GL702VS-GC095T',\n",
       "       'GL553VE-FY082T (i7-7700HQ/8GB/1TB', 'IdeaPad 320-15IAP',\n",
       "       'EliteBook x360', 'IdeaPad 720S-13IKB', 'GE63VR 7RF',\n",
       "       'ES1-523-84K7 (A8-7410/8GB/256GB/FHD/W10)', 'VivoBook Flip',\n",
       "       'ThinkPad 13', 'ProBook 640', 'TravelMate B', 'Elitebook 840',\n",
       "       'ZenBook UX410UA-GV183T', 'Aspire E5-575', 'Elitebook 820',\n",
       "       'GL72M 7REX', 'UX510UX-CN269T (i7-7500U/8GB/256GB',\n",
       "       'V310-15ISK (i3-6006U/4GB/1TB/FHD/W10)',\n",
       "       'FX553VD-FY647T (i7-7700HQ/8GB/256GB/GeForce', 'Elitebook 850',\n",
       "       'X541NA (N3350/4GB/1TB/Linux)', 'Inspiron 3552',\n",
       "       'IdeaPad 320-15ABR', 'Stream 14-AX001nv', 'GP72MVR 7RFX',\n",
       "       'Zbook 15', 'Tecra A50-C-21G', 'Latitude 7480',\n",
       "       'Zenbook UX410UA-GV027T', '15-AY023na (N3710/8GB/2TB/W10)',\n",
       "       'Elitebook 1040', 'IdeaPad 110-17ACL',\n",
       "       '15-bw003nv (A9-Series-9420/4GB/256GB/FHD/W10)', 'Yoga 11e',\n",
       "       'VivoBook E403NA', 'Omen 17-w212nv',\n",
       "       'V310-15ISK (i3-6006U/4GB/128GB/FHD/No', 'ROG Strix',\n",
       "       'IdeaPad 720S-14IKB', 'Zenbook Flip', 'Thinkpad X1',\n",
       "       'Ideapad 510S-13IKB', 'Precision 3510', 'Precision 5520',\n",
       "       'Rog GL753VD-GC042T', 'Rog GL753VE-GC070T', 'Leopard GP72M',\n",
       "       '15-BW004nv (A9-9420/4GB/256GB/Radeon', 'ThinkPad E580',\n",
       "       'ThinkPad L470', 'Precision M5520',\n",
       "       'FX753VD-GC461T (i7-7700HQ/16GB/1TB', 'GE73VR 7RF', 'Zenbook 3',\n",
       "       'Portege Z30-C-16P', 'Lenovo IdeaPad', 'ThinkPad P51',\n",
       "       'Thinkpad T470p', '15-BS028nv (i3-6006U/4GB/1TB/Radeon',\n",
       "       'Latitude 3380', 'EliteBook 1040', 'LapBook 12.3', 'ProBook 650',\n",
       "       'X542UQ-DM117 (i3-7100U/8GB/1TB/GeForce', 'Latitude 5480',\n",
       "       'Omen 17-w207nv', 'FlexBook Edge', 'Chromebook 3', 'Thinkpad 13',\n",
       "       'IdeaPad 320s-14IKB', 'Thinkpad P51',\n",
       "       '15-ra044nv (N3060/4GB/500GB/W10)', 'Pixelbook (Core',\n",
       "       'ThinkPad T470s', 'ThinkPad X270', 'Omen 15-AX205na',\n",
       "       'Aspire ES1-572', 'Precision 3520', 'GV62 7RD-1686NL',\n",
       "       '15-bs024nv (i5-7200U/8GB/128GB/W10)', 'ThinkPad T470',\n",
       "       'Inspiron 3168', '17-BS092ND (i3-6006U/8GB/256GB/W10)',\n",
       "       'Pro P2540UA-AB51', 'IdeaPad 510s-14IKB',\n",
       "       'X541NA-PD1003Y (N4200/4GB/500GB/W10)', 'Omen 17-an006nv',\n",
       "       'Thinkpad T460s', 'Latitude 7390', 'Latitude E5470',\n",
       "       'Portege X30-D-10J', 'Lapbook 15,6', 'ThinkPad E570',\n",
       "       'Thinkpad X270', 'Zenbook UX390UA', 'Thinkpad E570',\n",
       "       'Portege X30-D-10L', 'Rog G752VL-UH71T', 'Thinkpad X260',\n",
       "       'Ideapad 520-15IKBR', 'ThinkPad L570', 'VivoBook E201NA',\n",
       "       '15-BS026nv (i5-7200U/8GB/256GB/Radeon', 'IdeaPad 320-14IAP',\n",
       "       'Chromebook N23', 'ZenBook UX510UX-CN211T', 'Aspire A515-51G-59QF',\n",
       "       'Envy 13-AB002nv', 'Vostro 5568', 'VivoBook E12',\n",
       "       '15-bs190od (i5-8250U/4GB/1TB/W10)', 'ROG Zephyrus', 'Probook 450',\n",
       "       'FX753VE-GC155T (i7-7700HQ/16GB/1TB', 'Spectre X360',\n",
       "       'Latitude 5580', 'Zenbook UX510UW-FI095T', 'SmartBook Edge',\n",
       "       'Omen 15-ce006nv', 'Thinkpad E470', 'Envy 13-AB020nr',\n",
       "       'VivoBook X540YA-XX519T', 'ThinkPad E470',\n",
       "       'V310-15ISK (i5-6200U/4GB/1TB/FHD/No', 'ThinkPad T570',\n",
       "       '17-X047na (i3-6006U/8GB/1TB/W10)',\n",
       "       'A541NA-GO342 (N3350/4GB/500GB/Linux)', 'SmartBook 130',\n",
       "       '15-bw007nv (A10-9620P/6GB/128GB/Radeon', 'Spin SP111-31',\n",
       "       'V330-15IKB (i3-7130U/4GB/128GB/FHD/W10)', 'EliteBook 1030',\n",
       "       'Thinkpad P71', 'FX553VD-DM627T (i5-7300HQ/8GB/1TB',\n",
       "       'Lifebook A557', 'ZBook 17', '14-am079na (N3710/8GB/2TB/W10)',\n",
       "       '15-cd005nv (A9-9420/6GB/256GB/Radeon',\n",
       "       'V330-15IKB (i5-8250U/4GB/500GB/FHD/W10)', 'SmartBook 141',\n",
       "       'Tecra X40-D-10H', 'IdeaPad Y910-17ISK', 'GT73VR Titan',\n",
       "       'Chromebook 11', 'GT80S 6QE', 'Omen 17-AN010nv',\n",
       "       'Ideapad 320-15IKBR', 'TP501UA-CJ131T (i5-7200U/8GB/1TB/W10)',\n",
       "       'Inspiron 3179', 'Notebook Odyssey',\n",
       "       'V320-17ISK (i3-6006U/4GB/500GB/FHD/No', 'IdeaPad 110-15ISK',\n",
       "       'Latitude 5289', 'EliteBook 850', 'Aspire 1', 'Laptop MSI',\n",
       "       'GS63VR 7RF', 'Tecra Z50-C-144', 'IdeaPad 310-15IKB',\n",
       "       'Swift SF114-31-P5HY', 'Inspiron 7559',\n",
       "       'FX753VD-GC007T (i7-7700HQ/8GB/1TB', 'GT62VR 7RE',\n",
       "       'CB5-132T-C9KK (N3160/4GB/32GB/Chrome', 'LifeBook A557',\n",
       "       'SmartBook 140', 'Q304UA-BHI5T11 (i5-7200U/6GB/1TB/FHD/W10)',\n",
       "       'ZenBook 3', 'V330-15IKB (i5-8250U/4GB/256GB/FHD/W10)',\n",
       "       'Ideapad 320-15ISK', 'X541NA-GO414T (N3350/8GB/1TB/W10)',\n",
       "       'IdeaPad 100S-14IBR', '17-AK091ND (A9-9420/8GB/1TB/W10)',\n",
       "       'ROG GL553VE-FY022', 'Extensa EX2540', 'Portege Z30-C-16J',\n",
       "       'ROG G701VI', 'A715-71G-59DH (i5-7300HQ/8GB/1TB/GeForce',\n",
       "       'GL62M 7REX', 'Tecra A50-D-11M', 'IdeaPad Y700-15ISK',\n",
       "       'Latitude E7470', 'Ideapad 320-15IAP',\n",
       "       '15-ay047nv (i3-6006U/6GB/1TB/Radeon', 'GP72VR Leopard',\n",
       "       'Latitude 3580', '15-bs012nv (i7-7500U/8GB/1TB/Radeon',\n",
       "       'Tecra Z50-D-10E', 'V310-15ISK (i5-7200U/8GB/1TB',\n",
       "       'Yoga 720-13IKB', 'Pavilion X360', 'GP62 7RDX', 'Chromebook X360',\n",
       "       'Gram 15Z975', 'Aspire VX5-591G', 'GV62M 7RD',\n",
       "       'L502NA-GO052T (N3350/4GB/128GB/W10)', 'Alienware 15',\n",
       "       '17-bs000nv I3', 'Yoga 730', '17-Y002nv (A10-9600P/6GB/2TB/Radeon',\n",
       "       'V110-15ISK (3855U/4GB/500GB/W10)', 'Chromebook 14',\n",
       "       'IdeaPad 520s-14IKB', 'TravelMate B117-M', 'Chromebook Flip',\n",
       "       'Portege Z30T-C-133', '15-bs011nv (i7-7500U/4GB/500GB/Radeon',\n",
       "       'V310-15IKB (i5-7200U/4GB/1TB/FHD/W10)',\n",
       "       'V310-15ISK (i3-6006U/4GB/500GB/No', 'ThinkPad P51s',\n",
       "       'Thinkpad T460p', '17-ak002nv (A10-9620P/6GB/2TB/Radeon',\n",
       "       '110-15ACL (A6-7310/4GB/500GB/W10)', 'Smartbook 142',\n",
       "       'V310-15IKB (i5-7200U/4GB/1TB/No', 'Inspiron 5378',\n",
       "       '15-BW037na (A9-9420/4GB/1TB/Radeon', 'Predator 17',\n",
       "       '15-BW091ND (A9-9420/6GB/1TB', 'Extensa EX2540-58KR',\n",
       "       'V310-15IKB (i7-7500U/4GB/1TB/FHD/W10)', 'ZBook 15',\n",
       "       'Inspiron 7560', 'Tecra X40-D-10G', 'Flex 5', 'Thinkpad P51s',\n",
       "       'Notebook 9', 'Zbook 17', 'N23 (N3060/4GB/128GB/W10)',\n",
       "       'X550VX-XX015D (i5-6300HQ/4GB/1TB/GeForce', 'Thinkpad T460',\n",
       "       'Pro P2540UA-XO0192R', 'Yoga 900-13ISK',\n",
       "       '15-cb003na (i5-7300HQ/8GB/1TB', 'Latitude 7280',\n",
       "       'Zenbook UX330UA-AH5Q', 'TravelMate P238-M',\n",
       "       'X751NV-TY001 (N4200/4GB/1TB/GeForce', 'Tecra A40-C-1E5',\n",
       "       'EliteBook 820', 'Q524UQ-BHI7T15 (i7-7500U/12GB/2TB/GeForce',\n",
       "       'Thinkpad P50', 'Vivobook Max', 'Rog G752VS-BA171T',\n",
       "       'Tecra Z40-C-161', 'IdeaPad 110-15IBR', 'GS43VR 7RE',\n",
       "       'GL62M (i5-7300HQ/8GB/1TB', 'Predator G9-793',\n",
       "       'FX502VM-DM560T (i7-7700HQ/8GB/1TB', 'K146 (N3350/4GB/32GB/W10)',\n",
       "       'Yoga 510-15IKB', 'R417NA-RS01 (N3350/4GB/32GB/W10)',\n",
       "       'Pro P2540UA-XS51', 'Latitude 3180',\n",
       "       '15-ba043na (A12-9700P/8GB/2TB/W10)', 'Omen 17-an012dx',\n",
       "       'Thinkpad T470s', 'Blade Stealth', 'Latitude 3480',\n",
       "       'V110-15ISK (i3-6006U/4GB/500GB/W10)', 'Tecra X40-D-10Z',\n",
       "       'GL62M 7RD', 'Rog GL702VS-BA023T', 'N42-20 Chromebook',\n",
       "       'R558UA-DM966T (i5-7200U/8GB/128GB/FHD/W10)', 'Rog GL702VM-GC017T',\n",
       "       'ZenBook UX310UQ-GL026T', 'Rog GL502VM-DS74', 'Inspiron 5767',\n",
       "       'ThinkPad T470p', 'K556UR-DM621T (i7-7500U/8GB/256GB/GeForce',\n",
       "       'X541NA (N4200/4GB/1TB/W10)', 'Inspiron 5368', 'Portege X30-D-10X',\n",
       "       'Port?g? Z30-C-188',\n",
       "       'TMX349-G2-M-50FS (i5-7200U/8GB/256GB/FHD/W10)', 'Tecra A50-D-11D',\n",
       "       'X541NA-GO121 (N4200/4GB/1TB/Linux)', 'Pavilion x360',\n",
       "       'VivoBook L402NA', 'IdeaPad 510-15ISK', 'Rog GL753VD-GC082T',\n",
       "       'Chromebook C731-C78G', 'Probook 640', 'Envy x360',\n",
       "       'GS73VR Stealth', 'Portege X30-D-10V',\n",
       "       'G701VO-IH74K (i7-6820HK/32GB/2x', 'Gram 15Z970',\n",
       "       'Chromebook CB5-571-C1DZ', 'Gram 14Z970', 'Elitebook Folio',\n",
       "       'IdeaPad 510-15IKB', 'GE72VR 6RF', 'Envy 13-AB077cl',\n",
       "       'Tecra Z50-C-140', 'Probook 650', 'Tecra Z40-C-12X',\n",
       "       'GP62M Leopard', 'Omen 17-W006na',\n",
       "       'X751SV-TY001T (N3710/4GB/1TB/GeForce', 'TravelMate P259-G2',\n",
       "       'Tecra A50-C-1ZV', 'Yoga 700-11ISK', 'IdeaPad Y700-15ACZ',\n",
       "       'Insprion 5767', 'ZBook Studio', 'Portege Z30-C-1CW',\n",
       "       'ProBook x360', 'Chromebook C738T-C2EJ', 'Portege Z30-C-16Z',\n",
       "       'Aspire F5-573G-510L', 'Portege X20W-D-10V', 'Tecra A40-C-1DF',\n",
       "       'ThinkPad T460', 'Q534UX-BHI7T19 (i7-7500U/16GB/2TB',\n",
       "       '15-bs053od (i7-7500U/6GB/1TB/W10)', 'Rog GL753VE-DS74',\n",
       "       'Inspiron 7579', 'Portege Z30-C-1CV', 'LifeBook A556',\n",
       "       'Tecra A40-C-1KF', '15-bs005nv (i3-6006U/4GB/1TB',\n",
       "       'V110-15IAP (N3350/4GB/128GB/No', 'ThinkPad T560',\n",
       "       'ZenBook UX310UA-FB485T', 'Spectre 13-V111dx', 'Aspire ES1-533',\n",
       "       'Rog GL553VE-DS74', 'Nitro 5', 'ENVY -', 'Portege Z30-C-16H',\n",
       "       'Portege A30-C-1CZ', 'ThinkPad P70', 'Tecra Z40-C-12Z',\n",
       "       'Inspiron 5568', 'Port?g? Z30-C-16K', 'Spectre 13-V100nv',\n",
       "       'Latitude E5570', 'Tecra Z40-C-136', 'Yoga 500-15ISK',\n",
       "       'V142 (X5-Z8350/2GB/32GB/W10)', 'Tecra A50-C-218', 'Thinkpad L560',\n",
       "       'GT72S Dominator', 'IdeaPad Y900-17ISK', 'Chromebook C202SA',\n",
       "       'Noteb Pav', 'Inspiron 5578', '250 G5', 'Aspire ES1-523',\n",
       "       'Inspiron 7378', 'GT62VR 6RD', 'Rog G752VL-GC088D', 'GS63VR 6RF',\n",
       "       'ROG G701VO', 'Latitude 3570', 'IdeaPad 300-17ISK',\n",
       "       'Ideapad 700-15ISK', 'GT72VR Dominator',\n",
       "       'V110-15ISK (i5-6200U/4GB/500GB/W10)', 'Yoga 900S-12ISK',\n",
       "       'Chromebook 13', 'Rog GL702VM-GC354T', 'Aspire F5-573G',\n",
       "       'GS70 Stealth', 'G752VY-GC162T (i7-6700HQ/16GB/1TB',\n",
       "       'Latitude E5270', 'Chromebook 15', 'GE72 Apache',\n",
       "       '15-bw011nv (A6-9220/4GB/1TB/FHD/W10)', 'Rog GL552VW-CN470T',\n",
       "       'Vostro 3559', 'V110-15ISK (i3-6006U/4GB/128GB/W10)',\n",
       "       'Spectre Pro', 'Portege X30-D-10K', 'Rog GL752VW-T4308T',\n",
       "       'V131 (X5-Z8350/4GB/32GB/FHD/W10)', 'Omen -',\n",
       "       '15-bs078cl (i7-7500U/8GB/2TB/W10)', 'ThinkPad P40',\n",
       "       'L403NA-GA013TS (N3350/4GB/32GB/W10)', 'IdeaPad 500-15ISK',\n",
       "       'GP62M 7RDX', 'V110-15ISK (i3-6006U/4GB/1TB/No',\n",
       "       '15-BA015wm (E2-7110/4GB/500GB/W10)',\n",
       "       'B51-80 (i5-6200U/8GB/1TB/Radeon',\n",
       "       '15-bw002nv (A6-9220/4GB/256GB/Radeon', 'GP72M 7REX',\n",
       "       'ThinkPad T460s', 'B51-80 (i5-6200U/8GB/1008GB/Radeon',\n",
       "       'GS40 Phantom', 'Pavilion 15-cb003nv', 'IdeaPad 310-15ISK',\n",
       "       '250 G4', '320-15ISK (i3-6006U/4GB/1TB/GeForce',\n",
       "       'Stream 14-AX000nv', 'PL60 7RD',\n",
       "       'X553SA-XX021T (N3050/4GB/500GB/W10)',\n",
       "       'V110-15ISK (i5-6200U/4GB/500GB/No',\n",
       "       'UX410UA-GV097T (i3-7100U/4GB/256GB/FHD/W10)',\n",
       "       'B51-80 (i7-6500U/4GB/1008GB/FHD/W7)', 'GS60 Ghost',\n",
       "       'Pavilion 15-BC000nv', 'Rog GL552VW-DM201T', 'Chromebook Plus',\n",
       "       'Pavilion Power', 'V110-15ISK (i3-6006U/4GB/1TB/Radeon',\n",
       "       'Rog G752VY-GC229T', 'GS73VR 7RF',\n",
       "       'FX502VM-DM105T (i7-6700HQ/8GB/1TB/GeForce',\n",
       "       '15-bs025nv (i5-7200U/8GB/256GB/W10)', 'Aspire E5-774G',\n",
       "       'FX502VM-AS73 (i7-7700HQ/16GB/1TB',\n",
       "       'C740-C9QX (3205U/2GB/32GB/Chrome', 'E5 774G',\n",
       "       'SP714-51 (i7-7Y75/8GB/256GB/FHD/W10)', 'Thinkpad T560',\n",
       "       'GP62MVR 6RF', '15-bw009nv (A12-9720P/6GB/1TB/Radeon',\n",
       "       'Latitude E7270', 'X540SA-RBPDN09 (N3710/4GB/1TB/W10)',\n",
       "       'GL62M 7RDX', 'GE72VR Apache',\n",
       "       '15-bs023nv (i3-6006U/4GB/1TB/FHD/W10)', 'GL62 6QF',\n",
       "       'ZenBook UX310UA-WB71', 'Inspiron 7779', 'Rog GL553VE-FY052T',\n",
       "       'Rog GL502VS', 'V510-15IKB (i5-7200U/8GB/256GB/FHD/No',\n",
       "       'ThinkPad L460', 'X541NA-GO020T (N3350/4GB/1TB/W10)',\n",
       "       'Rog G752VT-GC073T', 'B51-80 (i7-6500U/8GB/1008GB/Radeon',\n",
       "       'GE62 Apache', 'Yoga 500-14IBD', 'ZenBook UX305CA-UBM1',\n",
       "       'Aspire ES1-531', 'Pavilion 15-AW003nv', 'Stream 11-Y000na',\n",
       "       'X556UJ-XO044T (i7-6500U/4GB/500GB/GeForce', 'Yoga 500-14ISK',\n",
       "       '15-AC110nv (i7-6500U/6GB/1TB/Radeon',\n",
       "       'X553SA-XX031T (N3050/4GB/500GB/W10)'], dtype=object)"
      ]
     },
     "execution_count": 11,
     "metadata": {},
     "output_type": "execute_result"
    }
   ],
   "source": [
    "laptop_price['Product'].unique()"
   ]
  },
  {
   "cell_type": "code",
   "execution_count": 12,
   "id": "c9ae65e6",
   "metadata": {},
   "outputs": [
    {
     "data": {
      "text/plain": [
       "array(['Ultrabook', 'Notebook', 'Netbook', 'Gaming', '2 in 1 Convertible',\n",
       "       'Workstation'], dtype=object)"
      ]
     },
     "execution_count": 12,
     "metadata": {},
     "output_type": "execute_result"
    }
   ],
   "source": [
    "laptop_price['TypeName'].unique()"
   ]
  },
  {
   "cell_type": "code",
   "execution_count": 13,
   "id": "4cdea137",
   "metadata": {},
   "outputs": [
    {
     "data": {
      "text/plain": [
       "array([13.3, 15.6, 15.4, 14. , 12. , 11.6, 17.3, 10.1, 13.5, 12.5, 13. ,\n",
       "       18.4, 13.9, 12.3, 17. , 15. , 14.1, 11.3])"
      ]
     },
     "execution_count": 13,
     "metadata": {},
     "output_type": "execute_result"
    }
   ],
   "source": [
    "laptop_price['Inches'].unique()"
   ]
  },
  {
   "cell_type": "code",
   "execution_count": 14,
   "id": "a54281d4",
   "metadata": {},
   "outputs": [
    {
     "data": {
      "text/plain": [
       "array(['IPS Panel Retina Display 2560x1600', '1440x900',\n",
       "       'Full HD 1920x1080', 'IPS Panel Retina Display 2880x1800',\n",
       "       '1366x768', 'IPS Panel Full HD 1920x1080',\n",
       "       'IPS Panel Retina Display 2304x1440',\n",
       "       'IPS Panel Full HD / Touchscreen 1920x1080',\n",
       "       'Full HD / Touchscreen 1920x1080',\n",
       "       'Touchscreen / Quad HD+ 3200x1800',\n",
       "       'IPS Panel Touchscreen 1920x1200', 'Touchscreen 2256x1504',\n",
       "       'Quad HD+ / Touchscreen 3200x1800', 'IPS Panel 1366x768',\n",
       "       'IPS Panel 4K Ultra HD / Touchscreen 3840x2160',\n",
       "       'IPS Panel Full HD 2160x1440',\n",
       "       '4K Ultra HD / Touchscreen 3840x2160', 'Touchscreen 2560x1440',\n",
       "       '1600x900', 'IPS Panel 4K Ultra HD 3840x2160',\n",
       "       '4K Ultra HD 3840x2160', 'Touchscreen 1366x768',\n",
       "       'IPS Panel Full HD 1366x768', 'IPS Panel 2560x1440',\n",
       "       'IPS Panel Full HD 2560x1440',\n",
       "       'IPS Panel Retina Display 2736x1824', 'Touchscreen 2400x1600',\n",
       "       '2560x1440', 'IPS Panel Quad HD+ 2560x1440',\n",
       "       'IPS Panel Quad HD+ 3200x1800',\n",
       "       'IPS Panel Quad HD+ / Touchscreen 3200x1800',\n",
       "       'IPS Panel Touchscreen 1366x768', '1920x1080',\n",
       "       'IPS Panel Full HD 1920x1200',\n",
       "       'IPS Panel Touchscreen / 4K Ultra HD 3840x2160',\n",
       "       'IPS Panel Touchscreen 2560x1440',\n",
       "       'Touchscreen / Full HD 1920x1080', 'Quad HD+ 3200x1800',\n",
       "       'Touchscreen / 4K Ultra HD 3840x2160',\n",
       "       'IPS Panel Touchscreen 2400x1600'], dtype=object)"
      ]
     },
     "execution_count": 14,
     "metadata": {},
     "output_type": "execute_result"
    }
   ],
   "source": [
    "laptop_price['ScreenResolution'].unique()"
   ]
  },
  {
   "cell_type": "code",
   "execution_count": 15,
   "id": "41b4da5c",
   "metadata": {},
   "outputs": [
    {
     "data": {
      "text/plain": [
       "array(['Intel Core i5 2.3GHz', 'Intel Core i5 1.8GHz',\n",
       "       'Intel Core i5 7200U 2.5GHz', 'Intel Core i7 2.7GHz',\n",
       "       'Intel Core i5 3.1GHz', 'AMD A9-Series 9420 3GHz',\n",
       "       'Intel Core i7 2.2GHz', 'Intel Core i7 8550U 1.8GHz',\n",
       "       'Intel Core i5 8250U 1.6GHz', 'Intel Core i3 6006U 2GHz',\n",
       "       'Intel Core i7 2.8GHz', 'Intel Core M m3 1.2GHz',\n",
       "       'Intel Core i7 7500U 2.7GHz', 'Intel Core i7 2.9GHz',\n",
       "       'Intel Core i3 7100U 2.4GHz', 'Intel Atom x5-Z8350 1.44GHz',\n",
       "       'Intel Core i5 7300HQ 2.5GHz', 'AMD E-Series E2-9000e 1.5GHz',\n",
       "       'Intel Core i5 1.6GHz', 'Intel Core i7 8650U 1.9GHz',\n",
       "       'Intel Atom x5-Z8300 1.44GHz', 'AMD E-Series E2-6110 1.5GHz',\n",
       "       'AMD A6-Series 9220 2.5GHz',\n",
       "       'Intel Celeron Dual Core N3350 1.1GHz',\n",
       "       'Intel Core i3 7130U 2.7GHz', 'Intel Core i7 7700HQ 2.8GHz',\n",
       "       'Intel Core i5 2.0GHz', 'AMD Ryzen 1700 3GHz',\n",
       "       'Intel Pentium Quad Core N4200 1.1GHz',\n",
       "       'Intel Atom x5-Z8550 1.44GHz',\n",
       "       'Intel Celeron Dual Core N3060 1.6GHz', 'Intel Core i5 1.3GHz',\n",
       "       'AMD FX 9830P 3GHz', 'Intel Core i7 7560U 2.4GHz',\n",
       "       'AMD E-Series 6110 1.5GHz', 'Intel Core i5 6200U 2.3GHz',\n",
       "       'Intel Core M 6Y75 1.2GHz', 'Intel Core i5 7500U 2.7GHz',\n",
       "       'Intel Core i3 6006U 2.2GHz', 'AMD A6-Series 9220 2.9GHz',\n",
       "       'Intel Core i7 6920HQ 2.9GHz', 'Intel Core i5 7Y54 1.2GHz',\n",
       "       'Intel Core i7 7820HK 2.9GHz', 'Intel Xeon E3-1505M V6 3GHz',\n",
       "       'Intel Core i7 6500U 2.5GHz', 'AMD E-Series 9000e 1.5GHz',\n",
       "       'AMD A10-Series A10-9620P 2.5GHz', 'AMD A6-Series A6-9220 2.5GHz',\n",
       "       'Intel Core i5 2.9GHz', 'Intel Core i7 6600U 2.6GHz',\n",
       "       'Intel Core i3 6006U 2.0GHz',\n",
       "       'Intel Celeron Dual Core 3205U 1.5GHz',\n",
       "       'Intel Core i7 7820HQ 2.9GHz', 'AMD A10-Series 9600P 2.4GHz',\n",
       "       'Intel Core i7 7600U 2.8GHz', 'AMD A8-Series 7410 2.2GHz',\n",
       "       'Intel Celeron Dual Core 3855U 1.6GHz',\n",
       "       'Intel Pentium Quad Core N3710 1.6GHz',\n",
       "       'AMD A12-Series 9720P 2.7GHz', 'Intel Core i5 7300U 2.6GHz',\n",
       "       'AMD A12-Series 9720P 3.6GHz',\n",
       "       'Intel Celeron Quad Core N3450 1.1GHz',\n",
       "       'Intel Celeron Dual Core N3060 1.60GHz',\n",
       "       'Intel Core i5 6440HQ 2.6GHz', 'Intel Core i7 6820HQ 2.7GHz',\n",
       "       'AMD Ryzen 1600 3.2GHz', 'Intel Core i7 7Y75 1.3GHz',\n",
       "       'Intel Core i5 7440HQ 2.8GHz', 'Intel Core i7 7660U 2.5GHz',\n",
       "       'Intel Core i7 7700HQ 2.7GHz', 'Intel Core M m3-7Y30 2.2GHz',\n",
       "       'Intel Core i5 7Y57 1.2GHz', 'Intel Core i7 6700HQ 2.6GHz',\n",
       "       'Intel Core i3 6100U 2.3GHz', 'AMD A10-Series 9620P 2.5GHz',\n",
       "       'AMD E-Series 7110 1.8GHz', 'Intel Celeron Dual Core N3350 2.0GHz',\n",
       "       'AMD A9-Series A9-9420 3GHz', 'Intel Core i7 6820HK 2.7GHz',\n",
       "       'Intel Core M 7Y30 1.0GHz', 'Intel Xeon E3-1535M v6 3.1GHz',\n",
       "       'Intel Celeron Quad Core N3160 1.6GHz',\n",
       "       'Intel Core i5 6300U 2.4GHz', 'Intel Core i3 6100U 2.1GHz',\n",
       "       'AMD E-Series E2-9000 2.2GHz',\n",
       "       'Intel Celeron Dual Core N3050 1.6GHz',\n",
       "       'Intel Core M M3-6Y30 0.9GHz', 'AMD A9-Series 9420 2.9GHz',\n",
       "       'Intel Core i5 6300HQ 2.3GHz', 'AMD A6-Series 7310 2GHz',\n",
       "       'Intel Atom Z8350 1.92GHz', 'Intel Xeon E3-1535M v5 2.9GHz',\n",
       "       'Intel Core i5 6260U 1.8GHz',\n",
       "       'Intel Pentium Dual Core N4200 1.1GHz',\n",
       "       'Intel Celeron Quad Core N3710 1.6GHz', 'Intel Core M 1.2GHz',\n",
       "       'AMD A12-Series 9700P 2.5GHz', 'Intel Core i7 7500U 2.5GHz',\n",
       "       'Intel Pentium Dual Core 4405U 2.1GHz',\n",
       "       'AMD A4-Series 7210 2.2GHz', 'Intel Core i7 6560U 2.2GHz',\n",
       "       'Intel Core M m7-6Y75 1.2GHz', 'AMD FX 8800P 2.1GHz',\n",
       "       'Intel Core M M7-6Y75 1.2GHz', 'Intel Core i5 7200U 2.50GHz',\n",
       "       'Intel Core i5 7200U 2.70GHz', 'Intel Atom X5-Z8350 1.44GHz',\n",
       "       'Intel Core i5 7200U 2.7GHz', 'Intel Core M 1.1GHz',\n",
       "       'Intel Pentium Dual Core 4405Y 1.5GHz',\n",
       "       'Intel Pentium Quad Core N3700 1.6GHz', 'Intel Core M 6Y54 1.1GHz',\n",
       "       'Intel Core i7 6500U 2.50GHz',\n",
       "       'Intel Celeron Dual Core N3350 2GHz',\n",
       "       'Samsung Cortex A72&A53 2.0GHz', 'AMD E-Series 9000 2.2GHz',\n",
       "       'Intel Core M 6Y30 0.9GHz', 'AMD A9-Series 9410 2.9GHz'],\n",
       "      dtype=object)"
      ]
     },
     "execution_count": 15,
     "metadata": {},
     "output_type": "execute_result"
    }
   ],
   "source": [
    "laptop_price['Cpu'].unique()"
   ]
  },
  {
   "cell_type": "code",
   "execution_count": 16,
   "id": "5f30075e",
   "metadata": {},
   "outputs": [
    {
     "data": {
      "text/plain": [
       "array(['8GB', '16GB', '4GB', '2GB', '12GB', '6GB', '32GB', '24GB', '64GB'],\n",
       "      dtype=object)"
      ]
     },
     "execution_count": 16,
     "metadata": {},
     "output_type": "execute_result"
    }
   ],
   "source": [
    "laptop_price['Ram'].unique()"
   ]
  },
  {
   "cell_type": "markdown",
   "id": "391d0ffb",
   "metadata": {},
   "source": [
    "I have noticed the 'GB' value in the Ram column, that will be removed to enable me convert this column to a numeric column."
   ]
  },
  {
   "cell_type": "code",
   "execution_count": 17,
   "id": "fe279795",
   "metadata": {},
   "outputs": [],
   "source": [
    "# To remove the gb\n",
    "laptop_price['Ram'] = laptop_price['Ram'].str.replace(\"GB\",\"\")"
   ]
  },
  {
   "cell_type": "code",
   "execution_count": 18,
   "id": "c19b0ace",
   "metadata": {},
   "outputs": [],
   "source": [
    "# to convert to numeric data\n",
    "laptop_price['Ram'] = pd.to_numeric(laptop_price['Ram'])"
   ]
  },
  {
   "cell_type": "markdown",
   "id": "53049045",
   "metadata": {},
   "source": [
    "Since the gb value has been removed, I will rename my column to show that the Ram is measured in GB"
   ]
  },
  {
   "cell_type": "code",
   "execution_count": 19,
   "id": "da6be160",
   "metadata": {},
   "outputs": [],
   "source": [
    "laptop_price.rename(columns={\"Ram\": \"Ram_GB\"}, inplace=True)"
   ]
  },
  {
   "cell_type": "code",
   "execution_count": 20,
   "id": "03dbb693",
   "metadata": {},
   "outputs": [
    {
     "data": {
      "text/plain": [
       "array(['128GB SSD', '128GB Flash Storage', '256GB SSD', '512GB SSD',\n",
       "       '500GB HDD', '256GB Flash Storage', '1TB HDD',\n",
       "       '32GB Flash Storage', '128GB SSD +  1TB HDD',\n",
       "       '256GB SSD +  256GB SSD', '64GB Flash Storage',\n",
       "       '256GB SSD +  1TB HDD', '256GB SSD +  2TB HDD', '32GB SSD',\n",
       "       '2TB HDD', '64GB SSD', '1.0TB Hybrid', '512GB SSD +  1TB HDD',\n",
       "       '1TB SSD', '256GB SSD +  500GB HDD', '128GB SSD +  2TB HDD',\n",
       "       '512GB SSD +  512GB SSD', '16GB SSD', '16GB Flash Storage',\n",
       "       '512GB SSD +  256GB SSD', '512GB SSD +  2TB HDD',\n",
       "       '64GB Flash Storage +  1TB HDD', '180GB SSD', '1TB HDD +  1TB HDD',\n",
       "       '32GB HDD', '1TB SSD +  1TB HDD', '512GB Flash Storage',\n",
       "       '128GB HDD', '240GB SSD', '8GB SSD', '508GB Hybrid', '1.0TB HDD',\n",
       "       '512GB SSD +  1.0TB Hybrid', '256GB SSD +  1.0TB Hybrid'],\n",
       "      dtype=object)"
      ]
     },
     "execution_count": 20,
     "metadata": {},
     "output_type": "execute_result"
    }
   ],
   "source": [
    "laptop_price['Memory'].unique()"
   ]
  },
  {
   "cell_type": "code",
   "execution_count": 21,
   "id": "d0bd0a00",
   "metadata": {},
   "outputs": [
    {
     "data": {
      "text/plain": [
       "array(['Intel Iris Plus Graphics 640', 'Intel HD Graphics 6000',\n",
       "       'Intel HD Graphics 620', 'AMD Radeon Pro 455',\n",
       "       'Intel Iris Plus Graphics 650', 'AMD Radeon R5',\n",
       "       'Intel Iris Pro Graphics', 'Nvidia GeForce MX150',\n",
       "       'Intel UHD Graphics 620', 'Intel HD Graphics 520',\n",
       "       'AMD Radeon Pro 555', 'AMD Radeon R5 M430',\n",
       "       'Intel HD Graphics 615', 'AMD Radeon Pro 560',\n",
       "       'Nvidia GeForce 940MX', 'Intel HD Graphics 400',\n",
       "       'Nvidia GeForce GTX 1050', 'AMD Radeon R2', 'AMD Radeon 530',\n",
       "       'Nvidia GeForce 930MX', 'Intel HD Graphics',\n",
       "       'Intel HD Graphics 500', 'Nvidia GeForce 930MX ',\n",
       "       'Nvidia GeForce GTX 1060', 'Nvidia GeForce 150MX',\n",
       "       'Intel Iris Graphics 540', 'AMD Radeon RX 580',\n",
       "       'Nvidia GeForce 920MX', 'AMD Radeon R4 Graphics', 'AMD Radeon 520',\n",
       "       'Nvidia GeForce GTX 1070', 'Nvidia GeForce GTX 1050 Ti',\n",
       "       'Nvidia GeForce MX130', 'AMD R4 Graphics',\n",
       "       'Nvidia GeForce GTX 940MX', 'AMD Radeon RX 560',\n",
       "       'Nvidia GeForce 920M', 'AMD Radeon R7 M445', 'AMD Radeon RX 550',\n",
       "       'Nvidia GeForce GTX 1050M', 'Intel HD Graphics 515',\n",
       "       'AMD Radeon R5 M420', 'Intel HD Graphics 505',\n",
       "       'Nvidia GTX 980 SLI', 'AMD R17M-M1-70', 'Nvidia GeForce GTX 1080',\n",
       "       'Nvidia Quadro M1200', 'Nvidia GeForce 920MX ',\n",
       "       'Nvidia GeForce GTX 950M', 'AMD FirePro W4190M ',\n",
       "       'Nvidia GeForce GTX 980M', 'Intel Iris Graphics 550',\n",
       "       'Nvidia GeForce 930M', 'Intel HD Graphics 630',\n",
       "       'AMD Radeon R5 430', 'Nvidia GeForce GTX 940M',\n",
       "       'Intel HD Graphics 510', 'Intel HD Graphics 405',\n",
       "       'AMD Radeon RX 540', 'Nvidia GeForce GT 940MX',\n",
       "       'AMD FirePro W5130M', 'Nvidia Quadro M2200M', 'AMD Radeon R4',\n",
       "       'Nvidia Quadro M620', 'AMD Radeon R7 M460',\n",
       "       'Intel HD Graphics 530', 'Nvidia GeForce GTX 965M',\n",
       "       'Nvidia GeForce GTX1080', 'Nvidia GeForce GTX1050 Ti',\n",
       "       'Nvidia GeForce GTX 960M', 'AMD Radeon R2 Graphics',\n",
       "       'Nvidia Quadro M620M', 'Nvidia GeForce GTX 970M',\n",
       "       'Nvidia GeForce GTX 960<U+039C>', 'Intel Graphics 620',\n",
       "       'Nvidia GeForce GTX 960', 'AMD Radeon R5 520',\n",
       "       'AMD Radeon R7 M440', 'AMD Radeon R7', 'Nvidia Quadro M520M',\n",
       "       'Nvidia Quadro M2200', 'Nvidia Quadro M2000M',\n",
       "       'Intel HD Graphics 540', 'Nvidia Quadro M1000M', 'AMD Radeon 540',\n",
       "       'Nvidia GeForce GTX 1070M', 'Nvidia GeForce GTX1060',\n",
       "       'Intel HD Graphics 5300', 'AMD Radeon R5 M420X',\n",
       "       'AMD Radeon R7 Graphics', 'Nvidia GeForce 920',\n",
       "       'Nvidia GeForce 940M', 'Nvidia GeForce GTX 930MX',\n",
       "       'AMD Radeon R7 M465', 'AMD Radeon R3', 'Nvidia GeForce GTX 1050Ti',\n",
       "       'AMD Radeon R7 M365X', 'AMD Radeon R9 M385',\n",
       "       'Intel HD Graphics 620 ', 'Nvidia Quadro 3000M',\n",
       "       'Nvidia GeForce GTX 980 ', 'AMD Radeon R5 M330',\n",
       "       'AMD FirePro W4190M', 'AMD FirePro W6150M', 'AMD Radeon R5 M315',\n",
       "       'Nvidia Quadro M500M', 'AMD Radeon R7 M360',\n",
       "       'Nvidia Quadro M3000M', 'Nvidia GeForce 960M', 'ARM Mali T860 MP4'],\n",
       "      dtype=object)"
      ]
     },
     "execution_count": 21,
     "metadata": {},
     "output_type": "execute_result"
    }
   ],
   "source": [
    "laptop_price['Gpu'].unique()"
   ]
  },
  {
   "cell_type": "code",
   "execution_count": 22,
   "id": "639a9044",
   "metadata": {},
   "outputs": [
    {
     "data": {
      "text/plain": [
       "array(['macOS', 'No OS', 'Windows 10', 'Mac OS X', 'Linux', 'Android',\n",
       "       'Windows 10 S', 'Chrome OS', 'Windows 7'], dtype=object)"
      ]
     },
     "execution_count": 22,
     "metadata": {},
     "output_type": "execute_result"
    }
   ],
   "source": [
    "laptop_price['OpSys'].unique()"
   ]
  },
  {
   "cell_type": "code",
   "execution_count": 23,
   "id": "4cbefbba",
   "metadata": {},
   "outputs": [
    {
     "data": {
      "text/plain": [
       "array(['1.37kg', '1.34kg', '1.86kg', '1.83kg', '2.1kg', '2.04kg', '1.3kg',\n",
       "       '1.6kg', '2.2kg', '0.92kg', '1.22kg', '0.98kg', '2.5kg', '1.62kg',\n",
       "       '1.91kg', '2.3kg', '1.35kg', '1.88kg', '1.89kg', '1.65kg',\n",
       "       '2.71kg', '1.2kg', '1.44kg', '2.8kg', '2kg', '2.65kg', '2.77kg',\n",
       "       '3.2kg', '0.69kg', '1.49kg', '2.4kg', '2.13kg', '2.43kg', '1.7kg',\n",
       "       '1.4kg', '1.8kg', '1.9kg', '3kg', '1.252kg', '2.7kg', '2.02kg',\n",
       "       '1.63kg', '1.96kg', '1.21kg', '2.45kg', '1.25kg', '1.5kg',\n",
       "       '2.62kg', '1.38kg', '1.58kg', '1.85kg', '1.23kg', '1.26kg',\n",
       "       '2.16kg', '2.36kg', '2.05kg', '1.32kg', '1.75kg', '0.97kg',\n",
       "       '2.9kg', '2.56kg', '1.48kg', '1.74kg', '1.1kg', '1.56kg', '2.03kg',\n",
       "       '1.05kg', '4.4kg', '1.90kg', '1.29kg', '2.0kg', '1.95kg', '2.06kg',\n",
       "       '1.12kg', '1.42kg', '3.49kg', '3.35kg', '2.23kg', '4.42kg',\n",
       "       '2.69kg', '2.37kg', '4.7kg', '3.6kg', '2.08kg', '4.3kg', '1.68kg',\n",
       "       '1.41kg', '4.14kg', '2.18kg', '2.24kg', '2.67kg', '2.14kg',\n",
       "       '1.36kg', '2.25kg', '2.15kg', '2.19kg', '2.54kg', '3.42kg',\n",
       "       '1.28kg', '2.33kg', '1.45kg', '2.79kg', '1.84kg', '2.6kg',\n",
       "       '2.26kg', '3.25kg', '1.59kg', '1.13kg', '1.78kg', '1.10kg',\n",
       "       '1.15kg', '1.27kg', '1.43kg', '2.31kg', '1.16kg', '1.64kg',\n",
       "       '2.17kg', '1.47kg', '3.78kg', '1.79kg', '0.91kg', '1.99kg',\n",
       "       '4.33kg', '1.93kg', '1.87kg', '2.63kg', '3.4kg', '3.14kg',\n",
       "       '1.94kg', '1.24kg', '4.6kg', '4.5kg', '2.73kg', '1.39kg', '2.29kg',\n",
       "       '2.59kg', '2.94kg', '1.14kg', '3.8kg', '3.31kg', '1.09kg',\n",
       "       '3.21kg', '1.19kg', '1.98kg', '1.17kg', '4.36kg', '1.71kg',\n",
       "       '2.32kg', '4.2kg', '1.55kg', '0.81kg', '1.18kg', '2.72kg',\n",
       "       '1.31kg', '0.920kg', '3.74kg', '1.76kg', '1.54kg', '2.83kg',\n",
       "       '2.07kg', '2.38kg', '3.58kg', '1.08kg', '2.20kg', '2.75kg',\n",
       "       '1.70kg', '2.99kg', '1.11kg', '2.09kg', '4kg', '3.0kg', '0.99kg',\n",
       "       '3.52kg', '2.591kg', '2.21kg', '3.3kg', '2.191kg', '2.34kg',\n",
       "       '4.0kg'], dtype=object)"
      ]
     },
     "execution_count": 23,
     "metadata": {},
     "output_type": "execute_result"
    }
   ],
   "source": [
    "laptop_price['Weight'].unique()"
   ]
  },
  {
   "cell_type": "code",
   "execution_count": 24,
   "id": "061939e3",
   "metadata": {},
   "outputs": [],
   "source": [
    "# to remove the kg values in order to allow for easy conversion of data to numerica data\n",
    "laptop_price['Weight'] = laptop_price['Weight'].str.replace(\"kg\",\"\")"
   ]
  },
  {
   "cell_type": "code",
   "execution_count": 25,
   "id": "f0ce9173",
   "metadata": {},
   "outputs": [],
   "source": [
    "# converting data to numeric\n",
    "laptop_price['Weight'] = pd.to_numeric(laptop_price['Weight'])"
   ]
  },
  {
   "cell_type": "code",
   "execution_count": 26,
   "id": "2764f613",
   "metadata": {},
   "outputs": [],
   "source": [
    "# to rename column to show that weight measurement is in kg\n",
    "laptop_price.rename(columns={\"Weight\": \"Weight_kg\"}, inplace=True)"
   ]
  },
  {
   "cell_type": "code",
   "execution_count": 27,
   "id": "258ea98b",
   "metadata": {},
   "outputs": [],
   "source": [
    "# deleting laptop_ID column, this feature is considered irrelevant to this project\n",
    "laptop_price.drop('laptop_ID', axis =1, inplace = True)"
   ]
  },
  {
   "cell_type": "markdown",
   "id": "3da281ca",
   "metadata": {},
   "source": [
    "### EXPLORATORY DATA ANALYSIS"
   ]
  },
  {
   "cell_type": "code",
   "execution_count": 28,
   "id": "5c6cfa3f",
   "metadata": {},
   "outputs": [],
   "source": [
    "# to import data visualization libraries\n",
    "import seaborn as sns\n",
    "import matplotlib\n",
    "import matplotlib.pyplot as plt\n",
    "%matplotlib inline\n",
    "#"
   ]
  },
  {
   "cell_type": "markdown",
   "id": "9a97a9d1",
   "metadata": {},
   "source": [
    "Which company makes the most expensive laptops?"
   ]
  },
  {
   "cell_type": "code",
   "execution_count": 29,
   "id": "9af81b9b",
   "metadata": {},
   "outputs": [
    {
     "data": {
      "text/html": [
       "<div>\n",
       "<style scoped>\n",
       "    .dataframe tbody tr th:only-of-type {\n",
       "        vertical-align: middle;\n",
       "    }\n",
       "\n",
       "    .dataframe tbody tr th {\n",
       "        vertical-align: top;\n",
       "    }\n",
       "\n",
       "    .dataframe thead th {\n",
       "        text-align: right;\n",
       "    }\n",
       "</style>\n",
       "<table border=\"1\" class=\"dataframe\">\n",
       "  <thead>\n",
       "    <tr style=\"text-align: right;\">\n",
       "      <th></th>\n",
       "      <th>Price_euros</th>\n",
       "    </tr>\n",
       "    <tr>\n",
       "      <th>Company</th>\n",
       "      <th></th>\n",
       "    </tr>\n",
       "  </thead>\n",
       "  <tbody>\n",
       "    <tr>\n",
       "      <th>Razer</th>\n",
       "      <td>3346.142857</td>\n",
       "    </tr>\n",
       "    <tr>\n",
       "      <th>LG</th>\n",
       "      <td>2099.000000</td>\n",
       "    </tr>\n",
       "    <tr>\n",
       "      <th>MSI</th>\n",
       "      <td>1728.908148</td>\n",
       "    </tr>\n",
       "    <tr>\n",
       "      <th>Google</th>\n",
       "      <td>1677.666667</td>\n",
       "    </tr>\n",
       "    <tr>\n",
       "      <th>Microsoft</th>\n",
       "      <td>1612.308333</td>\n",
       "    </tr>\n",
       "    <tr>\n",
       "      <th>Apple</th>\n",
       "      <td>1564.198571</td>\n",
       "    </tr>\n",
       "    <tr>\n",
       "      <th>Huawei</th>\n",
       "      <td>1424.000000</td>\n",
       "    </tr>\n",
       "    <tr>\n",
       "      <th>Samsung</th>\n",
       "      <td>1413.444444</td>\n",
       "    </tr>\n",
       "    <tr>\n",
       "      <th>Toshiba</th>\n",
       "      <td>1267.812500</td>\n",
       "    </tr>\n",
       "    <tr>\n",
       "      <th>Dell</th>\n",
       "      <td>1186.068990</td>\n",
       "    </tr>\n",
       "  </tbody>\n",
       "</table>\n",
       "</div>"
      ],
      "text/plain": [
       "           Price_euros\n",
       "Company               \n",
       "Razer      3346.142857\n",
       "LG         2099.000000\n",
       "MSI        1728.908148\n",
       "Google     1677.666667\n",
       "Microsoft  1612.308333\n",
       "Apple      1564.198571\n",
       "Huawei     1424.000000\n",
       "Samsung    1413.444444\n",
       "Toshiba    1267.812500\n",
       "Dell       1186.068990"
      ]
     },
     "execution_count": 29,
     "metadata": {},
     "output_type": "execute_result"
    }
   ],
   "source": [
    "avg_price = laptop_price.groupby('Company')[['Price_euros']].mean().sort_values(by = 'Price_euros', ascending = False).head(10)\n",
    "avg_price"
   ]
  },
  {
   "cell_type": "code",
   "execution_count": 30,
   "id": "8baf1456",
   "metadata": {},
   "outputs": [
    {
     "data": {
      "image/png": "[encoded data removed]",
      "text/plain": [
       "<Figure size 432x288 with 1 Axes>"
      ]
     },
     "metadata": {
      "needs_background": "light"
     },
     "output_type": "display_data"
    }
   ],
   "source": [
    "# to plot result in a chart\n",
    "avg_price.plot(kind ='bar', legend = False, color = 'grey')\n",
    "plt.title('Laptop Price by Company', fontweight = 'bold', fontsize = 14)\n",
    "plt.xlabel('Name of Company', fontsize = 12)\n",
    "plt.ylabel('Product Price', fontsize = 12)\n",
    "plt.show();\n"
   ]
  },
  {
   "cell_type": "markdown",
   "id": "d6ca7a98",
   "metadata": {},
   "source": [
    "What memory size is the most expensive?"
   ]
  },
  {
   "cell_type": "code",
   "execution_count": 31,
   "id": "c146f094",
   "metadata": {},
   "outputs": [
    {
     "data": {
      "text/html": [
       "<div>\n",
       "<style scoped>\n",
       "    .dataframe tbody tr th:only-of-type {\n",
       "        vertical-align: middle;\n",
       "    }\n",
       "\n",
       "    .dataframe tbody tr th {\n",
       "        vertical-align: top;\n",
       "    }\n",
       "\n",
       "    .dataframe thead th {\n",
       "        text-align: right;\n",
       "    }\n",
       "</style>\n",
       "<table border=\"1\" class=\"dataframe\">\n",
       "  <thead>\n",
       "    <tr style=\"text-align: right;\">\n",
       "      <th></th>\n",
       "      <th>Price_euros</th>\n",
       "    </tr>\n",
       "    <tr>\n",
       "      <th>Memory</th>\n",
       "      <th></th>\n",
       "    </tr>\n",
       "  </thead>\n",
       "  <tbody>\n",
       "    <tr>\n",
       "      <th>1TB SSD +  1TB HDD</th>\n",
       "      <td>3624.100000</td>\n",
       "    </tr>\n",
       "    <tr>\n",
       "      <th>512GB SSD +  1.0TB Hybrid</th>\n",
       "      <td>3240.000000</td>\n",
       "    </tr>\n",
       "    <tr>\n",
       "      <th>240GB SSD</th>\n",
       "      <td>3100.000000</td>\n",
       "    </tr>\n",
       "    <tr>\n",
       "      <th>1TB SSD</th>\n",
       "      <td>3072.000000</td>\n",
       "    </tr>\n",
       "    <tr>\n",
       "      <th>256GB SSD +  1.0TB Hybrid</th>\n",
       "      <td>2749.990000</td>\n",
       "    </tr>\n",
       "    <tr>\n",
       "      <th>512GB SSD +  1TB HDD</th>\n",
       "      <td>2500.447143</td>\n",
       "    </tr>\n",
       "    <tr>\n",
       "      <th>8GB SSD</th>\n",
       "      <td>2249.000000</td>\n",
       "    </tr>\n",
       "    <tr>\n",
       "      <th>64GB Flash Storage +  1TB HDD</th>\n",
       "      <td>1993.000000</td>\n",
       "    </tr>\n",
       "    <tr>\n",
       "      <th>512GB SSD</th>\n",
       "      <td>1860.811017</td>\n",
       "    </tr>\n",
       "    <tr>\n",
       "      <th>256GB SSD +  1TB HDD</th>\n",
       "      <td>1856.152192</td>\n",
       "    </tr>\n",
       "  </tbody>\n",
       "</table>\n",
       "</div>"
      ],
      "text/plain": [
       "                               Price_euros\n",
       "Memory                                    \n",
       "1TB SSD +  1TB HDD             3624.100000\n",
       "512GB SSD +  1.0TB Hybrid      3240.000000\n",
       "240GB SSD                      3100.000000\n",
       "1TB SSD                        3072.000000\n",
       "256GB SSD +  1.0TB Hybrid      2749.990000\n",
       "512GB SSD +  1TB HDD           2500.447143\n",
       "8GB SSD                        2249.000000\n",
       "64GB Flash Storage +  1TB HDD  1993.000000\n",
       "512GB SSD                      1860.811017\n",
       "256GB SSD +  1TB HDD           1856.152192"
      ]
     },
     "execution_count": 31,
     "metadata": {},
     "output_type": "execute_result"
    }
   ],
   "source": [
    "memory_size = laptop_price.groupby('Memory')[['Price_euros']].mean().sort_values(by = 'Price_euros', ascending = False).head(10)\n",
    "memory_size"
   ]
  },
  {
   "cell_type": "code",
   "execution_count": 32,
   "id": "72510187",
   "metadata": {},
   "outputs": [
    {
     "data": {
      "image/png": "[encoded data removed]",
      "text/plain": [
       "<Figure size 432x288 with 1 Axes>"
      ]
     },
     "metadata": {
      "needs_background": "light"
     },
     "output_type": "display_data"
    }
   ],
   "source": [
    "# to plot result in a chart\n",
    "memory_size.plot(kind ='bar', legend = False, color = 'grey')\n",
    "plt.title('Laptop Price by Memory Size', fontweight = 'bold', fontsize = 14)\n",
    "plt.xlabel('Memory Specification', fontsize = 12)\n",
    "plt.ylabel('Product Price', fontsize = 12)\n",
    "plt.show();\n"
   ]
  },
  {
   "cell_type": "markdown",
   "id": "9e97e6a3",
   "metadata": {},
   "source": [
    "What memory size is the most expensive?"
   ]
  },
  {
   "cell_type": "code",
   "execution_count": 33,
   "id": "b0732c9c",
   "metadata": {},
   "outputs": [
    {
     "data": {
      "text/html": [
       "<div>\n",
       "<style scoped>\n",
       "    .dataframe tbody tr th:only-of-type {\n",
       "        vertical-align: middle;\n",
       "    }\n",
       "\n",
       "    .dataframe tbody tr th {\n",
       "        vertical-align: top;\n",
       "    }\n",
       "\n",
       "    .dataframe thead th {\n",
       "        text-align: right;\n",
       "    }\n",
       "</style>\n",
       "<table border=\"1\" class=\"dataframe\">\n",
       "  <thead>\n",
       "    <tr style=\"text-align: right;\">\n",
       "      <th></th>\n",
       "      <th>Price_euros</th>\n",
       "    </tr>\n",
       "    <tr>\n",
       "      <th>Cpu</th>\n",
       "      <th></th>\n",
       "    </tr>\n",
       "  </thead>\n",
       "  <tbody>\n",
       "    <tr>\n",
       "      <th>Intel Xeon E3-1535M v6 3.1GHz</th>\n",
       "      <td>4899.000000</td>\n",
       "    </tr>\n",
       "    <tr>\n",
       "      <th>Intel Xeon E3-1535M v5 2.9GHz</th>\n",
       "      <td>4389.000000</td>\n",
       "    </tr>\n",
       "    <tr>\n",
       "      <th>Intel Core i7 7820HK 2.9GHz</th>\n",
       "      <td>3832.678571</td>\n",
       "    </tr>\n",
       "    <tr>\n",
       "      <th>Intel Core i7 2.9GHz</th>\n",
       "      <td>2858.000000</td>\n",
       "    </tr>\n",
       "    <tr>\n",
       "      <th>Intel Core i7 6920HQ 2.9GHz</th>\n",
       "      <td>2799.000000</td>\n",
       "    </tr>\n",
       "    <tr>\n",
       "      <th>Intel Core i7 6820HK 2.7GHz</th>\n",
       "      <td>2555.763000</td>\n",
       "    </tr>\n",
       "    <tr>\n",
       "      <th>Intel Core i7 2.7GHz</th>\n",
       "      <td>2537.450000</td>\n",
       "    </tr>\n",
       "    <tr>\n",
       "      <th>Intel Xeon E3-1505M V6 3GHz</th>\n",
       "      <td>2524.000000</td>\n",
       "    </tr>\n",
       "    <tr>\n",
       "      <th>Intel Core i7 2.8GHz</th>\n",
       "      <td>2439.970000</td>\n",
       "    </tr>\n",
       "    <tr>\n",
       "      <th>Intel Core i7 6820HQ 2.7GHz</th>\n",
       "      <td>2347.714286</td>\n",
       "    </tr>\n",
       "  </tbody>\n",
       "</table>\n",
       "</div>"
      ],
      "text/plain": [
       "                               Price_euros\n",
       "Cpu                                       \n",
       "Intel Xeon E3-1535M v6 3.1GHz  4899.000000\n",
       "Intel Xeon E3-1535M v5 2.9GHz  4389.000000\n",
       "Intel Core i7 7820HK 2.9GHz    3832.678571\n",
       "Intel Core i7 2.9GHz           2858.000000\n",
       "Intel Core i7 6920HQ 2.9GHz    2799.000000\n",
       "Intel Core i7 6820HK 2.7GHz    2555.763000\n",
       "Intel Core i7 2.7GHz           2537.450000\n",
       "Intel Xeon E3-1505M V6 3GHz    2524.000000\n",
       "Intel Core i7 2.8GHz           2439.970000\n",
       "Intel Core i7 6820HQ 2.7GHz    2347.714286"
      ]
     },
     "execution_count": 33,
     "metadata": {},
     "output_type": "execute_result"
    }
   ],
   "source": [
    "cpu = laptop_price.groupby('Cpu')[['Price_euros']].mean().sort_values(by = 'Price_euros', ascending = False).head(10)\n",
    "cpu"
   ]
  },
  {
   "cell_type": "code",
   "execution_count": 34,
   "id": "95989dba",
   "metadata": {},
   "outputs": [
    {
     "data": {
      "image/png": "[encoded data removed]",
      "text/plain": [
       "<Figure size 432x288 with 1 Axes>"
      ]
     },
     "metadata": {
      "needs_background": "light"
     },
     "output_type": "display_data"
    }
   ],
   "source": [
    "# to plot result in a chart\n",
    "cpu.plot(kind ='bar', legend = False, color = 'grey')\n",
    "plt.title('Laptop Price by CPU', fontweight = 'bold', fontsize = 14)\n",
    "plt.xlabel('CPU Specification', fontsize = 12)\n",
    "plt.ylabel('Product Price', fontsize = 12)\n",
    "plt.show();\n"
   ]
  },
  {
   "cell_type": "markdown",
   "id": "10e082f9",
   "metadata": {},
   "source": [
    "### FEATURE ENGINEERING\n",
    "This is the process of manipulating and transforming data into a format that is usable for the machine learning model."
   ]
  },
  {
   "cell_type": "markdown",
   "id": "efcec06b",
   "metadata": {},
   "source": [
    "#### HANDLING CATEGORICAL DATA\n",
    "The first step of feature engineering is the conversion of categorical data into numbers. Regression model does not work with categorical data because of the mathematical computation that happens in the background.\n",
    "There are many ways to encode the categorical data. They include:\n",
    "- **LABEL ENCODING:**  This type of encodinf assigns 0 to the max number of unique values in the categorical column minus 1. This means that if we have 10 unique values, the type of encoding will assign 0, 1, 2, 3, 4, 5, 6, 7, 8, 9 to the unique values. The assignment is done in an alphabetical order. Assuming the unique values are blue, green, red, yellow, gold, purple, white, black, pink and orange. 0 will be assigned to Black, 1 to Blue, 2 to Gold, 3 to Green, 4 to Orange, 5 to Pink, 6 to Purple, 7 to Red, 8 to White, 9 to Yellow. Label Encoding is best used for nominal data, i.e when there is no order in the data. \n",
    "- **ORDINAL ENCODING:** Ordinal encoding is used to convert ordnal categorical data into numbers. An order is assigned to the values.\n",
    "- **ONE HOT ENCODING:** One-Hot encoding is the proccess of representing categorical data in the form of binary numbers. It is used to represent qualitative values in regression. One hot encoding creates a column for each unique value in a categorical column and assigns binary numbers of zero and one. When encoding, it is advisable to delete one of the dummy variable columns. This helps avoid what is known as dummy variable trap.\n",
    "- **FREQUENCY ENCODING:** Frequency or count encoding counts the number of times a data item appears in a columnn and assigns that number as the encoded value of the data item. eg. if we have a categorical columns that contains Lagos, Portharcourt, Lagos, Owerri, Lagos, Portharcourt, Abuja, Lagos and Abuja, Lagos will be encoded as 4 because it appears 4 times while Portharcourt will be encoded as 2. The problem with this encoding method arises when we have different data items with the same frequency distribution eg. Abuja appears twice as well, meaning that Abuja will be encoded as 2 as well as Portharcourt. This will make it difficult for us to spot the difference between both unique values.\n",
    "\n",
    "\n",
    "To know the encoding type to use, it is important to understand the type of categorical variables your dataset has. Whether the categorical data is ordinal or nominal must be considered.  \n",
    "\n",
    "#### TYPES OF CATEGORICAL DATA\n",
    "Qualitative data also known as categorical data describes the characteristics of a data object. Examples of Qualitative data are color, gender, races, educational qualification etc. Qualitative data are mostly expressed as text, they can however be encoded as numbers. Gender data like Male and Female can be expressed as 0 and 1 where 0 is male and 1 is female or vice versa. This doesn’t change the gender data to a quantitative data. The zip code of a city is a qualitative data irrespective of the fact that it is expressed as a number.\n",
    "Qualitative data is subdivided into:\n",
    "•\tOrdinal Data\n",
    "•\tNominal Data\n",
    "\n",
    "Ordinal Data: This describes categorical data that can be ordered e.g., educational qualification. \n",
    "\n",
    "Nominal Data: This is a type of categorical data that has no meaningful order. E.g., color of a dress.\n",
    "\n",
    "Another important point to consider while encoding categorical data is the cardinality of the variable. A variable with high cardinality will result in curse of dimensionality if one hot encoding is applied. It becomes advisible to make use of label encoding if the variable is nominal."
   ]
  },
  {
   "cell_type": "code",
   "execution_count": 35,
   "id": "6ab86231",
   "metadata": {},
   "outputs": [],
   "source": [
    "# to import the label encoder module\n",
    "from sklearn import preprocessing\n",
    "\n",
    "# to create a label encoder object\n",
    "label_encoder = preprocessing.LabelEncoder()\n",
    "\n",
    "# applying to the categorical columns\n",
    "laptop_price['Company'] = label_encoder.fit_transform(laptop_price['Company'])\n",
    "laptop_price['Product'] = label_encoder.fit_transform(laptop_price['Product'])\n",
    "laptop_price['TypeName'] = label_encoder.fit_transform(laptop_price['TypeName'])\n",
    "laptop_price['ScreenResolution'] = label_encoder.fit_transform(laptop_price['ScreenResolution'])\n",
    "laptop_price['Cpu'] = label_encoder.fit_transform(laptop_price['Cpu'])\n",
    "laptop_price['Memory'] = label_encoder.fit_transform(laptop_price['Memory'])\n",
    "laptop_price['Gpu'] = label_encoder.fit_transform(laptop_price['Gpu'])\n",
    "laptop_price['OpSys'] = label_encoder.fit_transform(laptop_price['OpSys'])"
   ]
  },
  {
   "cell_type": "markdown",
   "id": "02023298",
   "metadata": {},
   "source": [
    "#### MULTICOLINEARITY TESTING\n",
    "Multicollinearity describes a statistical situation in which independent variables are highly correlated with each other. Before fitting a regression model, it is advisable to remove highly correlated independent variables especially if the interest us to determine how each independent variable relates with the dependent variable individually. If this is not done, the individual effect becomes skewed. The standard error of the affected variables will become high as well as the P-Value.  "
   ]
  },
  {
   "cell_type": "code",
   "execution_count": 36,
   "id": "f374fcf4",
   "metadata": {},
   "outputs": [
    {
     "data": {
      "text/html": [
       "<div>\n",
       "<style scoped>\n",
       "    .dataframe tbody tr th:only-of-type {\n",
       "        vertical-align: middle;\n",
       "    }\n",
       "\n",
       "    .dataframe tbody tr th {\n",
       "        vertical-align: top;\n",
       "    }\n",
       "\n",
       "    .dataframe thead th {\n",
       "        text-align: right;\n",
       "    }\n",
       "</style>\n",
       "<table border=\"1\" class=\"dataframe\">\n",
       "  <thead>\n",
       "    <tr style=\"text-align: right;\">\n",
       "      <th></th>\n",
       "      <th>Company</th>\n",
       "      <th>Product</th>\n",
       "      <th>TypeName</th>\n",
       "      <th>Inches</th>\n",
       "      <th>ScreenResolution</th>\n",
       "      <th>Cpu</th>\n",
       "      <th>Ram_GB</th>\n",
       "      <th>Memory</th>\n",
       "      <th>Gpu</th>\n",
       "      <th>OpSys</th>\n",
       "      <th>Weight_kg</th>\n",
       "      <th>Price_euros</th>\n",
       "    </tr>\n",
       "  </thead>\n",
       "  <tbody>\n",
       "    <tr>\n",
       "      <th>Company</th>\n",
       "      <td>1.000000</td>\n",
       "      <td>0.067234</td>\n",
       "      <td>-0.007718</td>\n",
       "      <td>-0.085784</td>\n",
       "      <td>0.094772</td>\n",
       "      <td>0.044593</td>\n",
       "      <td>0.046508</td>\n",
       "      <td>0.048086</td>\n",
       "      <td>0.026537</td>\n",
       "      <td>0.134290</td>\n",
       "      <td>-0.129610</td>\n",
       "      <td>0.140371</td>\n",
       "    </tr>\n",
       "    <tr>\n",
       "      <th>Product</th>\n",
       "      <td>0.067234</td>\n",
       "      <td>1.000000</td>\n",
       "      <td>0.065529</td>\n",
       "      <td>-0.218979</td>\n",
       "      <td>0.176456</td>\n",
       "      <td>0.143916</td>\n",
       "      <td>0.019979</td>\n",
       "      <td>0.088700</td>\n",
       "      <td>0.094810</td>\n",
       "      <td>0.120596</td>\n",
       "      <td>-0.249035</td>\n",
       "      <td>0.139339</td>\n",
       "    </tr>\n",
       "    <tr>\n",
       "      <th>TypeName</th>\n",
       "      <td>-0.007718</td>\n",
       "      <td>0.065529</td>\n",
       "      <td>1.000000</td>\n",
       "      <td>-0.077428</td>\n",
       "      <td>-0.175618</td>\n",
       "      <td>-0.128174</td>\n",
       "      <td>-0.242862</td>\n",
       "      <td>0.019091</td>\n",
       "      <td>-0.204774</td>\n",
       "      <td>0.085223</td>\n",
       "      <td>-0.267002</td>\n",
       "      <td>-0.127313</td>\n",
       "    </tr>\n",
       "    <tr>\n",
       "      <th>Inches</th>\n",
       "      <td>-0.085784</td>\n",
       "      <td>-0.218979</td>\n",
       "      <td>-0.077428</td>\n",
       "      <td>1.000000</td>\n",
       "      <td>-0.247841</td>\n",
       "      <td>0.153041</td>\n",
       "      <td>0.237993</td>\n",
       "      <td>-0.193382</td>\n",
       "      <td>0.215710</td>\n",
       "      <td>0.034528</td>\n",
       "      <td>0.827631</td>\n",
       "      <td>0.068197</td>\n",
       "    </tr>\n",
       "    <tr>\n",
       "      <th>ScreenResolution</th>\n",
       "      <td>0.094772</td>\n",
       "      <td>0.176456</td>\n",
       "      <td>-0.175618</td>\n",
       "      <td>-0.247841</td>\n",
       "      <td>1.000000</td>\n",
       "      <td>0.232751</td>\n",
       "      <td>0.238280</td>\n",
       "      <td>0.059042</td>\n",
       "      <td>0.160816</td>\n",
       "      <td>0.070360</td>\n",
       "      <td>-0.135653</td>\n",
       "      <td>0.331327</td>\n",
       "    </tr>\n",
       "    <tr>\n",
       "      <th>Cpu</th>\n",
       "      <td>0.044593</td>\n",
       "      <td>0.143916</td>\n",
       "      <td>-0.128174</td>\n",
       "      <td>0.153041</td>\n",
       "      <td>0.232751</td>\n",
       "      <td>1.000000</td>\n",
       "      <td>0.468942</td>\n",
       "      <td>-0.013264</td>\n",
       "      <td>0.490761</td>\n",
       "      <td>0.125374</td>\n",
       "      <td>0.189229</td>\n",
       "      <td>0.529334</td>\n",
       "    </tr>\n",
       "    <tr>\n",
       "      <th>Ram_GB</th>\n",
       "      <td>0.046508</td>\n",
       "      <td>0.019979</td>\n",
       "      <td>-0.242862</td>\n",
       "      <td>0.237993</td>\n",
       "      <td>0.238280</td>\n",
       "      <td>0.468942</td>\n",
       "      <td>1.000000</td>\n",
       "      <td>0.151801</td>\n",
       "      <td>0.393280</td>\n",
       "      <td>0.139367</td>\n",
       "      <td>0.383874</td>\n",
       "      <td>0.743007</td>\n",
       "    </tr>\n",
       "    <tr>\n",
       "      <th>Memory</th>\n",
       "      <td>0.048086</td>\n",
       "      <td>0.088700</td>\n",
       "      <td>0.019091</td>\n",
       "      <td>-0.193382</td>\n",
       "      <td>0.059042</td>\n",
       "      <td>-0.013264</td>\n",
       "      <td>0.151801</td>\n",
       "      <td>1.000000</td>\n",
       "      <td>-0.020784</td>\n",
       "      <td>0.035574</td>\n",
       "      <td>-0.167431</td>\n",
       "      <td>0.185680</td>\n",
       "    </tr>\n",
       "    <tr>\n",
       "      <th>Gpu</th>\n",
       "      <td>0.026537</td>\n",
       "      <td>0.094810</td>\n",
       "      <td>-0.204774</td>\n",
       "      <td>0.215710</td>\n",
       "      <td>0.160816</td>\n",
       "      <td>0.490761</td>\n",
       "      <td>0.393280</td>\n",
       "      <td>-0.020784</td>\n",
       "      <td>1.000000</td>\n",
       "      <td>0.103853</td>\n",
       "      <td>0.336199</td>\n",
       "      <td>0.443299</td>\n",
       "    </tr>\n",
       "    <tr>\n",
       "      <th>OpSys</th>\n",
       "      <td>0.134290</td>\n",
       "      <td>0.120596</td>\n",
       "      <td>0.085223</td>\n",
       "      <td>0.034528</td>\n",
       "      <td>0.070360</td>\n",
       "      <td>0.125374</td>\n",
       "      <td>0.139367</td>\n",
       "      <td>0.035574</td>\n",
       "      <td>0.103853</td>\n",
       "      <td>1.000000</td>\n",
       "      <td>0.006480</td>\n",
       "      <td>0.288911</td>\n",
       "    </tr>\n",
       "    <tr>\n",
       "      <th>Weight_kg</th>\n",
       "      <td>-0.129610</td>\n",
       "      <td>-0.249035</td>\n",
       "      <td>-0.267002</td>\n",
       "      <td>0.827631</td>\n",
       "      <td>-0.135653</td>\n",
       "      <td>0.189229</td>\n",
       "      <td>0.383874</td>\n",
       "      <td>-0.167431</td>\n",
       "      <td>0.336199</td>\n",
       "      <td>0.006480</td>\n",
       "      <td>1.000000</td>\n",
       "      <td>0.210370</td>\n",
       "    </tr>\n",
       "    <tr>\n",
       "      <th>Price_euros</th>\n",
       "      <td>0.140371</td>\n",
       "      <td>0.139339</td>\n",
       "      <td>-0.127313</td>\n",
       "      <td>0.068197</td>\n",
       "      <td>0.331327</td>\n",
       "      <td>0.529334</td>\n",
       "      <td>0.743007</td>\n",
       "      <td>0.185680</td>\n",
       "      <td>0.443299</td>\n",
       "      <td>0.288911</td>\n",
       "      <td>0.210370</td>\n",
       "      <td>1.000000</td>\n",
       "    </tr>\n",
       "  </tbody>\n",
       "</table>\n",
       "</div>"
      ],
      "text/plain": [
       "                   Company   Product  TypeName    Inches  ScreenResolution  \\\n",
       "Company           1.000000  0.067234 -0.007718 -0.085784          0.094772   \n",
       "Product           0.067234  1.000000  0.065529 -0.218979          0.176456   \n",
       "TypeName         -0.007718  0.065529  1.000000 -0.077428         -0.175618   \n",
       "Inches           -0.085784 -0.218979 -0.077428  1.000000         -0.247841   \n",
       "ScreenResolution  0.094772  0.176456 -0.175618 -0.247841          1.000000   \n",
       "Cpu               0.044593  0.143916 -0.128174  0.153041          0.232751   \n",
       "Ram_GB            0.046508  0.019979 -0.242862  0.237993          0.238280   \n",
       "Memory            0.048086  0.088700  0.019091 -0.193382          0.059042   \n",
       "Gpu               0.026537  0.094810 -0.204774  0.215710          0.160816   \n",
       "OpSys             0.134290  0.120596  0.085223  0.034528          0.070360   \n",
       "Weight_kg        -0.129610 -0.249035 -0.267002  0.827631         -0.135653   \n",
       "Price_euros       0.140371  0.139339 -0.127313  0.068197          0.331327   \n",
       "\n",
       "                       Cpu    Ram_GB    Memory       Gpu     OpSys  Weight_kg  \\\n",
       "Company           0.044593  0.046508  0.048086  0.026537  0.134290  -0.129610   \n",
       "Product           0.143916  0.019979  0.088700  0.094810  0.120596  -0.249035   \n",
       "TypeName         -0.128174 -0.242862  0.019091 -0.204774  0.085223  -0.267002   \n",
       "Inches            0.153041  0.237993 -0.193382  0.215710  0.034528   0.827631   \n",
       "ScreenResolution  0.232751  0.238280  0.059042  0.160816  0.070360  -0.135653   \n",
       "Cpu               1.000000  0.468942 -0.013264  0.490761  0.125374   0.189229   \n",
       "Ram_GB            0.468942  1.000000  0.151801  0.393280  0.139367   0.383874   \n",
       "Memory           -0.013264  0.151801  1.000000 -0.020784  0.035574  -0.167431   \n",
       "Gpu               0.490761  0.393280 -0.020784  1.000000  0.103853   0.336199   \n",
       "OpSys             0.125374  0.139367  0.035574  0.103853  1.000000   0.006480   \n",
       "Weight_kg         0.189229  0.383874 -0.167431  0.336199  0.006480   1.000000   \n",
       "Price_euros       0.529334  0.743007  0.185680  0.443299  0.288911   0.210370   \n",
       "\n",
       "                  Price_euros  \n",
       "Company              0.140371  \n",
       "Product              0.139339  \n",
       "TypeName            -0.127313  \n",
       "Inches               0.068197  \n",
       "ScreenResolution     0.331327  \n",
       "Cpu                  0.529334  \n",
       "Ram_GB               0.743007  \n",
       "Memory               0.185680  \n",
       "Gpu                  0.443299  \n",
       "OpSys                0.288911  \n",
       "Weight_kg            0.210370  \n",
       "Price_euros          1.000000  "
      ]
     },
     "execution_count": 36,
     "metadata": {},
     "output_type": "execute_result"
    }
   ],
   "source": [
    "# Creating a correlation matrix\n",
    "multi_check_matrix = laptop_price.corr()\n",
    "multi_check_matrix"
   ]
  },
  {
   "cell_type": "code",
   "execution_count": 37,
   "id": "96108584",
   "metadata": {},
   "outputs": [
    {
     "data": {
      "text/plain": [
       "<AxesSubplot:>"
      ]
     },
     "execution_count": 37,
     "metadata": {},
     "output_type": "execute_result"
    },
    {
     "data": {
      "image/png": "[encoded data removed]",
      "text/plain": [
       "<Figure size 1440x720 with 2 Axes>"
      ]
     },
     "metadata": {
      "needs_background": "light"
     },
     "output_type": "display_data"
    }
   ],
   "source": [
    "# To visualize the correlation matrix in a Heatmap\n",
    "plt.figure(figsize=(20,10))\n",
    "colormap = sns.color_palette(\"Blues\")\n",
    "sns.heatmap(multi_check_matrix, cmap=colormap, vmax=0.9, annot=True, linecolor=\"white\", linewidths=0.02)"
   ]
  },
  {
   "cell_type": "code",
   "execution_count": null,
   "id": "c34c1a93",
   "metadata": {},
   "outputs": [],
   "source": []
  },
  {
   "cell_type": "code",
   "execution_count": null,
   "id": "d3611773",
   "metadata": {},
   "outputs": [],
   "source": [
    "# The Heatmap reveals a high corelation among these independent varibles, so I used the variance_inflation_factor module to remove them\n",
    "from statsmodels.stats.outliers_influence import variance_inflation_factor\n",
    "def compute_vif(dataframe):\n",
    "    VIF=pd.DataFrame()\n",
    "    VIF[\"features\"]=dataframe.columns\n",
    "    VIF[\"vif_values\"] = [variance_inflation_factor(dataframe.values, i) for i in range(dataframe.shape[1])]\n",
    "    return(VIF)"
   ]
  },
  {
   "cell_type": "code",
   "execution_count": null,
   "id": "0f5d7fe6",
   "metadata": {},
   "outputs": [],
   "source": [
    "# Applying the defined function to the dataframe\n",
    "compute_vif(laptop_price).sort_values(by = 'vif_values', ascending = False)"
   ]
  },
  {
   "cell_type": "code",
   "execution_count": null,
   "id": "5c6d9258",
   "metadata": {},
   "outputs": [],
   "source": [
    "#deleting features that are highly corelated\n",
    "laptop_price.drop(['Inches'], axis =1,inplace = True)"
   ]
  },
  {
   "cell_type": "markdown",
   "id": "627e850f",
   "metadata": {},
   "source": [
    "#### FEATURE SCALING\n",
    "The next feature engineering step performed on this data is the scaling of features. This puts the numeric values in the same range. An unscaled data can impair the model's ability to accurately make predictions. Feature scaling is necessary for Machine Learning algorithms that base on gradient descent to minimise the error between the predicted and actual values. Therefore in Linear Regression, it is importatnt to scale the data so that the gradient descent moves smoothly and quickly towards the minima and at a uniformed rate for all features in the data. Usually, in a dataset, some variables will assume greater range than the others; if these variables are not scaled, machine learning model will assign greater values to features with higher range.\n",
    "\n",
    "Before the Feature Scaling is done, it is advisable to seperate the independent variables from the dependent because we do not want to transform the dependent variable with is our target feature.\n",
    "\n",
    "It is also important to separate the training and test set before feature scaling, this helps to ensure that the possibilty of data or target leakage is eliminated."
   ]
  },
  {
   "cell_type": "markdown",
   "id": "c061288f",
   "metadata": {},
   "source": [
    "**SEPARATING INDEPENDENT AND DEPENDENT VARIBLES**"
   ]
  },
  {
   "cell_type": "code",
   "execution_count": null,
   "id": "7217ccc6",
   "metadata": {},
   "outputs": [],
   "source": [
    "# Creating a new dataframe for the independent varibles known as X\n",
    "X = laptop_price.drop('Price_euros', axis =1)\n",
    "X.head()"
   ]
  },
  {
   "cell_type": "code",
   "execution_count": null,
   "id": "e1e2dbc7",
   "metadata": {},
   "outputs": [],
   "source": [
    "# Creating a new dataframe for the dependent varibles known as y\n",
    "y = laptop_price['Price_euros']\n",
    "y.head()"
   ]
  },
  {
   "cell_type": "markdown",
   "id": "3c5b3c9d",
   "metadata": {},
   "source": [
    "#### TRAIN TEST SPLIT\n",
    "This is a step taken to ensure that the data set used for training is different from the one used for testing and model evaluation. Training and testing the model on the same data will lead to a very high accuracy which may not be replicated at the production stage."
   ]
  },
  {
   "cell_type": "code",
   "execution_count": null,
   "id": "8a61fa8c",
   "metadata": {},
   "outputs": [],
   "source": [
    "# To create the train and test dataset\n",
    "from sklearn.model_selection import train_test_split\n",
    "X_train, X_test, y_train, y_test = train_test_split(X, y, test_size = 0.25, random_state = 10)"
   ]
  },
  {
   "cell_type": "markdown",
   "id": "9840178a",
   "metadata": {},
   "source": [
    "**FEATURE SCALING**"
   ]
  },
  {
   "cell_type": "code",
   "execution_count": null,
   "id": "5d5fd9d0",
   "metadata": {},
   "outputs": [],
   "source": [
    "# importing the Standard Scaler module\n",
    "from sklearn.preprocessing import StandardScaler\n",
    "\n",
    "# Create a scaler object\n",
    "sc = StandardScaler()\n",
    "\n",
    "# Applying it to the X_train data\n",
    "X_train = sc.fit_transform(X_train)\n",
    "X_train"
   ]
  },
  {
   "cell_type": "code",
   "execution_count": null,
   "id": "490b2ac8",
   "metadata": {},
   "outputs": [],
   "source": [
    "# Applying it to the X_test data\n",
    "X_test = sc.fit_transform(X_test)\n",
    "X_test"
   ]
  },
  {
   "cell_type": "markdown",
   "id": "1e7a8636",
   "metadata": {},
   "source": [
    "### MODEL BUILDING\n",
    "Choosing the best model for your project depends largely on the type of problem the project seeks to solve. The Regression model is one of the best models for prediction quantitative values. To build the Linear Regression model, we must import the Linear Regression model from Scikit and use the .fit() function to train our training set data."
   ]
  },
  {
   "cell_type": "code",
   "execution_count": null,
   "id": "d37b5280",
   "metadata": {},
   "outputs": [],
   "source": [
    "# importing the linear regression model\n",
    "from sklearn.linear_model import LinearRegression\n",
    "\n",
    "# Creating a linear regression object\n",
    "reg = LinearRegression()\n",
    "\n",
    "# Model traing\n",
    "reg.fit(X_train, y_train)"
   ]
  },
  {
   "cell_type": "markdown",
   "id": "2535d7e1",
   "metadata": {},
   "source": [
    "### MODEL TESTING\n",
    "In model testing, we use the .predict() function to try out the just created model on the test set data."
   ]
  },
  {
   "cell_type": "code",
   "execution_count": null,
   "id": "20cb377f",
   "metadata": {},
   "outputs": [],
   "source": [
    "# To predict the price of laptops in our test dataset, using the model we just built\n",
    "y_pred = reg.predict(X_test)\n",
    "y_pred"
   ]
  },
  {
   "cell_type": "markdown",
   "id": "8bb08595",
   "metadata": {},
   "source": [
    "### EVALUATING MODEL PERFORMANCE\n",
    "Model Evaluation is the process through which the quality of a model's prediction is scored. It involves using different metrics to determine how good a machine model is."
   ]
  },
  {
   "cell_type": "code",
   "execution_count": null,
   "id": "8b9ae84e",
   "metadata": {},
   "outputs": [],
   "source": [
    "# Evaluating using the r^2  method, this is the default metric for evaluating a linear model.\n",
    "reg.score(X_test, y_test)"
   ]
  },
  {
   "cell_type": "code",
   "execution_count": null,
   "id": "6fac195e",
   "metadata": {},
   "outputs": [],
   "source": [
    "# Futher evaluation using the cross validation method\n",
    "from sklearn.model_selection import ShuffleSplit\n",
    "from sklearn.model_selection import cross_val_score\n",
    "\n",
    "cross_valid = ShuffleSplit(n_splits = 9, test_size = 0.2, random_state = 10)    #random_state=10 → Ensures reproducibility (same split every time you run the code).\n",
    "cross_val_score(LinearRegression(), X, y, cv = cross_valid)"
   ]
  },
  {
   "cell_type": "code",
   "execution_count": null,
   "id": "95605883",
   "metadata": {},
   "outputs": [],
   "source": [
    "cross_val_score(LinearRegression(), X, y, cv = cross_valid).mean()"
   ]
  },
  {
   "cell_type": "markdown",
   "id": "285909cd",
   "metadata": {},
   "source": [
    "Our model scores below 70%, let's find a way to improve this score. Let's get the statistical report of the model. This will help us find the features that are not statistically significant. These features can be dropped to improve the model."
   ]
  },
  {
   "cell_type": "code",
   "execution_count": null,
   "id": "3ee24b56",
   "metadata": {},
   "outputs": [],
   "source": [
    "import statsmodels.api as sm\n",
    "from scipy import stats\n",
    "\n",
    "X2 = sm.add_constant(X)\n",
    "est = sm.OLS(y, X2)\n",
    "est2 = est.fit()\n",
    "print(est2.summary())\n"
   ]
  },
  {
   "cell_type": "markdown",
   "id": "168c4a44",
   "metadata": {},
   "source": [
    "The Weight_kg feature has a P-Value that is higher than 0.05, this means the feature is not statistically significant to our project, so I will delete it to see how the model might improve."
   ]
  },
  {
   "cell_type": "code",
   "execution_count": null,
   "id": "99c35907",
   "metadata": {},
   "outputs": [],
   "source": [
    "laptop_price1 = laptop_price.drop('Weight_kg', axis =1)   #axis=1 → Specifies that we're dropping a column (not a row)."
   ]
  },
  {
   "cell_type": "code",
   "execution_count": null,
   "id": "f9d20f5c",
   "metadata": {},
   "outputs": [],
   "source": [
    "X1 = laptop_price1.drop('Price_euros', axis = 1)"
   ]
  },
  {
   "cell_type": "code",
   "execution_count": null,
   "id": "cd8ba5fb",
   "metadata": {},
   "outputs": [],
   "source": [
    "y1 = laptop_price1['Price_euros']"
   ]
  },
  {
   "cell_type": "code",
   "execution_count": null,
   "id": "98d814de",
   "metadata": {},
   "outputs": [],
   "source": [
    "# To create the train and test dataset\n",
    "\n",
    "X_train1, X_test1, y_train1, y_test1 = train_test_split(X1, y1, test_size = 0.3, random_state = 10)"
   ]
  },
  {
   "cell_type": "code",
   "execution_count": null,
   "id": "183e03ed",
   "metadata": {},
   "outputs": [],
   "source": [
    "X_train1 = sc.fit_transform(X_train1)\n",
    "X_train1"
   ]
  },
  {
   "cell_type": "code",
   "execution_count": null,
   "id": "7f589d00",
   "metadata": {},
   "outputs": [],
   "source": [
    "# Applying it to the X_test data\n",
    "X_test1 = sc.fit_transform(X_test1)\n",
    "X_test1"
   ]
  },
  {
   "cell_type": "code",
   "execution_count": null,
   "id": "790d23ec",
   "metadata": {},
   "outputs": [],
   "source": [
    "# Model Training\n",
    "reg.fit(X_train1, y_train1)"
   ]
  },
  {
   "cell_type": "code",
   "execution_count": null,
   "id": "128820b1",
   "metadata": {},
   "outputs": [],
   "source": [
    "# Model testing\n",
    "y_pred1 = reg.predict(X_test1)\n",
    "y_pred1"
   ]
  },
  {
   "cell_type": "code",
   "execution_count": null,
   "id": "a933d3b7",
   "metadata": {},
   "outputs": [],
   "source": [
    "# Model Evaluation\n",
    "reg.score(X_test1, y_test1)"
   ]
  },
  {
   "cell_type": "markdown",
   "id": "578c6119",
   "metadata": {},
   "source": [
    "We still have a score of less that 70%, we can try to use a different regressor for the prediction."
   ]
  },
  {
   "cell_type": "code",
   "execution_count": null,
   "id": "13ac0304",
   "metadata": {},
   "outputs": [],
   "source": [
    "from sklearn.ensemble import RandomForestRegressor\n",
    "# creating the random forest regressor object\n",
    "rand_reg = RandomForestRegressor()\n",
    "\n",
    "# # fitting the linear regression model with Xtrain and ytrain\n",
    "rand_reg.fit(X_train1, y_train1)\n",
    "\n",
    "# To predict the price of Airbnb Rentals in our test dataset, using the model we just built\n",
    "rand_pred = rand_reg.predict(X_test1)\n",
    "rand_pred"
   ]
  },
  {
   "cell_type": "code",
   "execution_count": null,
   "id": "e57b0d3a",
   "metadata": {},
   "outputs": [],
   "source": [
    "from sklearn.metrics import r2_score, mean_squared_error\n",
    "# Evaluating using the r^2  method\n",
    "r2_score(y_test1, rand_pred)"
   ]
  },
  {
   "cell_type": "markdown",
   "id": "d3919ec5",
   "metadata": {},
   "source": [
    "We can see that the Random Forest Regressor performs better than the Linear Regressor."
   ]
  },
  {
   "cell_type": "code",
   "execution_count": null,
   "id": "50b49125",
   "metadata": {},
   "outputs": [],
   "source": []
  },
  {
   "cell_type": "code",
   "execution_count": null,
   "id": "d97da87d",
   "metadata": {},
   "outputs": [],
   "source": []
  },
  {
   "cell_type": "code",
   "execution_count": null,
   "id": "01edf2c9",
   "metadata": {},
   "outputs": [],
   "source": []
  }
 ],
 "metadata": {
  "kernelspec": {
   "display_name": "Python 3 (ipykernel)",
   "language": "python",
   "name": "python3"
  },
  "language_info": {
   "codemirror_mode": {
    "name": "ipython",
    "version": 3
   },
   "file_extension": ".py",
   "mimetype": "text/x-python",
   "name": "python",
   "nbconvert_exporter": "python",
   "pygments_lexer": "ipython3",
   "version": "3.9.12"
  }
 },
 "nbformat": 4,
 "nbformat_minor": 5
}
